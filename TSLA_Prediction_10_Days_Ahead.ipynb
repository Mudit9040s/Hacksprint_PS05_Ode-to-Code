{
  "nbformat": 4,
  "nbformat_minor": 0,
  "metadata": {
    "colab": {
      "name": "TSLA Prediction_10_Days_Ahead.ipynb",
      "provenance": []
    },
    "kernelspec": {
      "name": "python3",
      "display_name": "Python 3"
    },
    "accelerator": "GPU"
  },
  "cells": [
    {
      "cell_type": "code",
      "metadata": {
        "id": "iG_JhbP7BMQt",
        "colab_type": "code",
        "colab": {
          "base_uri": "https://localhost:8080/",
          "height": 70
        },
        "outputId": "90be8604-1542-419d-c6d9-06e4c98727db"
      },
      "source": [
        "import pandas as pd\n",
        "from pandas_datareader import data, wb\n",
        "import datetime"
      ],
      "execution_count": 1,
      "outputs": [
        {
          "output_type": "stream",
          "text": [
            "/usr/local/lib/python3.6/dist-packages/pandas_datareader/compat/__init__.py:7: FutureWarning: pandas.util.testing is deprecated. Use the functions in the public API at pandas.testing instead.\n",
            "  from pandas.util.testing import assert_frame_equal\n"
          ],
          "name": "stderr"
        }
      ]
    },
    {
      "cell_type": "code",
      "metadata": {
        "id": "tuTZT465DRl9",
        "colab_type": "code",
        "colab": {
          "base_uri": "https://localhost:8080/",
          "height": 431
        },
        "outputId": "de9e9446-cd6f-4e87-ebcf-8e321fa1c699"
      },
      "source": [
        "start = pd.to_datetime('2015-09-24')\n",
        "end = pd.to_datetime('2020-09-24')\n",
        "data_df = data.DataReader('TSLA','yahoo',start,end)\n",
        "data_df"
      ],
      "execution_count": 2,
      "outputs": [
        {
          "output_type": "execute_result",
          "data": {
            "text/html": [
              "<div>\n",
              "<style scoped>\n",
              "    .dataframe tbody tr th:only-of-type {\n",
              "        vertical-align: middle;\n",
              "    }\n",
              "\n",
              "    .dataframe tbody tr th {\n",
              "        vertical-align: top;\n",
              "    }\n",
              "\n",
              "    .dataframe thead th {\n",
              "        text-align: right;\n",
              "    }\n",
              "</style>\n",
              "<table border=\"1\" class=\"dataframe\">\n",
              "  <thead>\n",
              "    <tr style=\"text-align: right;\">\n",
              "      <th></th>\n",
              "      <th>High</th>\n",
              "      <th>Low</th>\n",
              "      <th>Open</th>\n",
              "      <th>Close</th>\n",
              "      <th>Volume</th>\n",
              "      <th>Adj Close</th>\n",
              "    </tr>\n",
              "    <tr>\n",
              "      <th>Date</th>\n",
              "      <th></th>\n",
              "      <th></th>\n",
              "      <th></th>\n",
              "      <th></th>\n",
              "      <th></th>\n",
              "      <th></th>\n",
              "    </tr>\n",
              "  </thead>\n",
              "  <tbody>\n",
              "    <tr>\n",
              "      <th>2015-09-24</th>\n",
              "      <td>52.689999</td>\n",
              "      <td>51.242001</td>\n",
              "      <td>51.905998</td>\n",
              "      <td>52.624001</td>\n",
              "      <td>17241000.0</td>\n",
              "      <td>52.624001</td>\n",
              "    </tr>\n",
              "    <tr>\n",
              "      <th>2015-09-25</th>\n",
              "      <td>53.382000</td>\n",
              "      <td>51.230000</td>\n",
              "      <td>53.321999</td>\n",
              "      <td>51.382000</td>\n",
              "      <td>18867000.0</td>\n",
              "      <td>51.382000</td>\n",
              "    </tr>\n",
              "    <tr>\n",
              "      <th>2015-09-28</th>\n",
              "      <td>51.958000</td>\n",
              "      <td>49.321999</td>\n",
              "      <td>51.470001</td>\n",
              "      <td>49.686001</td>\n",
              "      <td>24505500.0</td>\n",
              "      <td>49.686001</td>\n",
              "    </tr>\n",
              "    <tr>\n",
              "      <th>2015-09-29</th>\n",
              "      <td>50.945999</td>\n",
              "      <td>49.091999</td>\n",
              "      <td>50.091999</td>\n",
              "      <td>49.330002</td>\n",
              "      <td>18516000.0</td>\n",
              "      <td>49.330002</td>\n",
              "    </tr>\n",
              "    <tr>\n",
              "      <th>2015-09-30</th>\n",
              "      <td>50.480000</td>\n",
              "      <td>48.467999</td>\n",
              "      <td>50.400002</td>\n",
              "      <td>49.680000</td>\n",
              "      <td>24648000.0</td>\n",
              "      <td>49.680000</td>\n",
              "    </tr>\n",
              "    <tr>\n",
              "      <th>...</th>\n",
              "      <td>...</td>\n",
              "      <td>...</td>\n",
              "      <td>...</td>\n",
              "      <td>...</td>\n",
              "      <td>...</td>\n",
              "      <td>...</td>\n",
              "    </tr>\n",
              "    <tr>\n",
              "      <th>2020-09-18</th>\n",
              "      <td>451.000000</td>\n",
              "      <td>428.799988</td>\n",
              "      <td>447.940002</td>\n",
              "      <td>442.149994</td>\n",
              "      <td>86406800.0</td>\n",
              "      <td>442.149994</td>\n",
              "    </tr>\n",
              "    <tr>\n",
              "      <th>2020-09-21</th>\n",
              "      <td>455.679993</td>\n",
              "      <td>407.070007</td>\n",
              "      <td>453.130005</td>\n",
              "      <td>449.390015</td>\n",
              "      <td>109476800.0</td>\n",
              "      <td>449.390015</td>\n",
              "    </tr>\n",
              "    <tr>\n",
              "      <th>2020-09-22</th>\n",
              "      <td>437.760010</td>\n",
              "      <td>417.600006</td>\n",
              "      <td>429.600006</td>\n",
              "      <td>424.230011</td>\n",
              "      <td>79580800.0</td>\n",
              "      <td>424.230011</td>\n",
              "    </tr>\n",
              "    <tr>\n",
              "      <th>2020-09-23</th>\n",
              "      <td>412.149994</td>\n",
              "      <td>375.880005</td>\n",
              "      <td>405.160004</td>\n",
              "      <td>380.359985</td>\n",
              "      <td>95074200.0</td>\n",
              "      <td>380.359985</td>\n",
              "    </tr>\n",
              "    <tr>\n",
              "      <th>2020-09-24</th>\n",
              "      <td>399.500000</td>\n",
              "      <td>351.299988</td>\n",
              "      <td>363.799988</td>\n",
              "      <td>387.790009</td>\n",
              "      <td>96199700.0</td>\n",
              "      <td>387.790009</td>\n",
              "    </tr>\n",
              "  </tbody>\n",
              "</table>\n",
              "<p>1260 rows × 6 columns</p>\n",
              "</div>"
            ],
            "text/plain": [
              "                  High         Low  ...       Volume   Adj Close\n",
              "Date                                ...                         \n",
              "2015-09-24   52.689999   51.242001  ...   17241000.0   52.624001\n",
              "2015-09-25   53.382000   51.230000  ...   18867000.0   51.382000\n",
              "2015-09-28   51.958000   49.321999  ...   24505500.0   49.686001\n",
              "2015-09-29   50.945999   49.091999  ...   18516000.0   49.330002\n",
              "2015-09-30   50.480000   48.467999  ...   24648000.0   49.680000\n",
              "...                ...         ...  ...          ...         ...\n",
              "2020-09-18  451.000000  428.799988  ...   86406800.0  442.149994\n",
              "2020-09-21  455.679993  407.070007  ...  109476800.0  449.390015\n",
              "2020-09-22  437.760010  417.600006  ...   79580800.0  424.230011\n",
              "2020-09-23  412.149994  375.880005  ...   95074200.0  380.359985\n",
              "2020-09-24  399.500000  351.299988  ...   96199700.0  387.790009\n",
              "\n",
              "[1260 rows x 6 columns]"
            ]
          },
          "metadata": {
            "tags": []
          },
          "execution_count": 2
        }
      ]
    },
    {
      "cell_type": "code",
      "metadata": {
        "id": "iy4ujlgLDbCm",
        "colab_type": "code",
        "colab": {
          "base_uri": "https://localhost:8080/",
          "height": 218
        },
        "outputId": "421a5ff1-206c-46f3-ff83-a7ee0cd05277"
      },
      "source": [
        "df1=data_df.reset_index()['Close']\n",
        "df1"
      ],
      "execution_count": 3,
      "outputs": [
        {
          "output_type": "execute_result",
          "data": {
            "text/plain": [
              "0        52.624001\n",
              "1        51.382000\n",
              "2        49.686001\n",
              "3        49.330002\n",
              "4        49.680000\n",
              "           ...    \n",
              "1255    442.149994\n",
              "1256    449.390015\n",
              "1257    424.230011\n",
              "1258    380.359985\n",
              "1259    387.790009\n",
              "Name: Close, Length: 1260, dtype: float64"
            ]
          },
          "metadata": {
            "tags": []
          },
          "execution_count": 3
        }
      ]
    },
    {
      "cell_type": "code",
      "metadata": {
        "id": "xAL8pwNuFXJq",
        "colab_type": "code",
        "colab": {
          "base_uri": "https://localhost:8080/",
          "height": 282
        },
        "outputId": "dc1ff700-1736-4105-9826-8343a6ebe0cb"
      },
      "source": [
        "import matplotlib.pyplot as plt\n",
        "plt.plot(df1)"
      ],
      "execution_count": 4,
      "outputs": [
        {
          "output_type": "execute_result",
          "data": {
            "text/plain": [
              "[<matplotlib.lines.Line2D at 0x7fb61c6e7550>]"
            ]
          },
          "metadata": {
            "tags": []
          },
          "execution_count": 4
        },
        {
          "output_type": "display_data",
          "data": {
            "image/png": "[encoded data removed]",
            "text/plain": [
              "<Figure size 432x288 with 1 Axes>"
            ]
          },
          "metadata": {
            "tags": [],
            "needs_background": "light"
          }
        }
      ]
    },
    {
      "cell_type": "code",
      "metadata": {
        "id": "JrYvKjccHUK_",
        "colab_type": "code",
        "colab": {
          "base_uri": "https://localhost:8080/",
          "height": 134
        },
        "outputId": "12bf9f0a-e816-4cfe-a64e-5249442c783c"
      },
      "source": [
        "from sklearn.preprocessing import MinMaxScaler\n",
        "scaler=MinMaxScaler(feature_range=(0,1))\n",
        "import numpy as np\n",
        "df1=scaler.fit_transform(np.array(df1).reshape(-1,1))\n",
        "df1"
      ],
      "execution_count": 5,
      "outputs": [
        {
          "output_type": "execute_result",
          "data": {
            "text/plain": [
              "array([[0.0508746 ],\n",
              "       [0.04822972],\n",
              "       [0.04461803],\n",
              "       ...,\n",
              "       [0.84222273],\n",
              "       [0.74879996],\n",
              "       [0.76462246]])"
            ]
          },
          "metadata": {
            "tags": []
          },
          "execution_count": 5
        }
      ]
    },
    {
      "cell_type": "code",
      "metadata": {
        "id": "PyMEiQs_HbAU",
        "colab_type": "code",
        "colab": {}
      },
      "source": [
        "training_size=int(len(df1)*0.80)\n",
        "test_size=len(df1)-training_size\n",
        "train_data,test_data=df1[0:training_size,:],df1[training_size:len(df1),:1]"
      ],
      "execution_count": 7,
      "outputs": []
    },
    {
      "cell_type": "code",
      "metadata": {
        "id": "M8dFAFK5Il1e",
        "colab_type": "code",
        "colab": {
          "base_uri": "https://localhost:8080/",
          "height": 34
        },
        "outputId": "1e71118a-7a16-416c-cbe0-cb2d5a03a4bb"
      },
      "source": [
        "training_size,test_size"
      ],
      "execution_count": 8,
      "outputs": [
        {
          "output_type": "execute_result",
          "data": {
            "text/plain": [
              "(1008, 252)"
            ]
          },
          "metadata": {
            "tags": []
          },
          "execution_count": 8
        }
      ]
    },
    {
      "cell_type": "code",
      "metadata": {
        "id": "NkC9OAYIIpB7",
        "colab_type": "code",
        "colab": {}
      },
      "source": [
        "def create_dataset(dataset, time_step=1):\n",
        "\tdataX, dataY = [], []\n",
        "\tfor i in range(len(dataset)-time_step-1):\n",
        "\t\ta = dataset[i:(i+time_step), 0]   \n",
        "\t\tdataX.append(a)\n",
        "\t\tdataY.append(dataset[i + time_step, 0])\n",
        "\treturn np.array(dataX), np.array(dataY)"
      ],
      "execution_count": 10,
      "outputs": []
    },
    {
      "cell_type": "code",
      "metadata": {
        "id": "Qb9-IyCUI8Iz",
        "colab_type": "code",
        "colab": {}
      },
      "source": [
        "time_step = 100\n",
        "X_train, y_train = create_dataset(train_data, time_step)\n",
        "X_test, ytest = create_dataset(test_data, time_step)"
      ],
      "execution_count": 11,
      "outputs": []
    },
    {
      "cell_type": "code",
      "metadata": {
        "id": "QguzhmiZI-do",
        "colab_type": "code",
        "colab": {
          "base_uri": "https://localhost:8080/",
          "height": 67
        },
        "outputId": "740d9e45-6f4d-493f-8d49-45d7a519a958"
      },
      "source": [
        "print(X_train.shape), print(y_train.shape)"
      ],
      "execution_count": 12,
      "outputs": [
        {
          "output_type": "stream",
          "text": [
            "(907, 100)\n",
            "(907,)\n"
          ],
          "name": "stdout"
        },
        {
          "output_type": "execute_result",
          "data": {
            "text/plain": [
              "(None, None)"
            ]
          },
          "metadata": {
            "tags": []
          },
          "execution_count": 12
        }
      ]
    },
    {
      "cell_type": "code",
      "metadata": {
        "id": "a-3l-Xu7JBNb",
        "colab_type": "code",
        "colab": {
          "base_uri": "https://localhost:8080/",
          "height": 67
        },
        "outputId": "300bc6e7-cd23-4b51-f730-ef462e1238c3"
      },
      "source": [
        "print(X_test.shape), print(ytest.shape)"
      ],
      "execution_count": 13,
      "outputs": [
        {
          "output_type": "stream",
          "text": [
            "(151, 100)\n",
            "(151,)\n"
          ],
          "name": "stdout"
        },
        {
          "output_type": "execute_result",
          "data": {
            "text/plain": [
              "(None, None)"
            ]
          },
          "metadata": {
            "tags": []
          },
          "execution_count": 13
        }
      ]
    },
    {
      "cell_type": "code",
      "metadata": {
        "id": "9oHYQUKGJOTC",
        "colab_type": "code",
        "colab": {}
      },
      "source": [
        "X_train =X_train.reshape(X_train.shape[0],X_train.shape[1] , 1)\n",
        "X_test = X_test.reshape(X_test.shape[0],X_test.shape[1] , 1)"
      ],
      "execution_count": 14,
      "outputs": []
    },
    {
      "cell_type": "code",
      "metadata": {
        "id": "a0BuTUgNJYHR",
        "colab_type": "code",
        "colab": {}
      },
      "source": [
        "from tensorflow.keras.models import Sequential\n",
        "from tensorflow.keras.layers import Dense\n",
        "from tensorflow.keras.layers import LSTM"
      ],
      "execution_count": 15,
      "outputs": []
    },
    {
      "cell_type": "code",
      "metadata": {
        "id": "-KyCHJlHJZuQ",
        "colab_type": "code",
        "colab": {}
      },
      "source": [
        "model=Sequential()\n",
        "model.add(LSTM(60,return_sequences=True,input_shape=(100,1)))\n",
        "model.add(LSTM(60,return_sequences=True))\n",
        "model.add(LSTM(60))\n",
        "model.add(Dense(1))\n",
        "model.compile(loss='mean_squared_error',optimizer='adam')"
      ],
      "execution_count": 16,
      "outputs": []
    },
    {
      "cell_type": "code",
      "metadata": {
        "id": "FOqM6UfjJgSk",
        "colab_type": "code",
        "colab": {
          "base_uri": "https://localhost:8080/",
          "height": 286
        },
        "outputId": "c72cc9bb-d498-487a-b07a-902b4b4c2562"
      },
      "source": [
        "model.summary()"
      ],
      "execution_count": 17,
      "outputs": [
        {
          "output_type": "stream",
          "text": [
            "Model: \"sequential\"\n",
            "_________________________________________________________________\n",
            "Layer (type)                 Output Shape              Param #   \n",
            "=================================================================\n",
            "lstm (LSTM)                  (None, 100, 60)           14880     \n",
            "_________________________________________________________________\n",
            "lstm_1 (LSTM)                (None, 100, 60)           29040     \n",
            "_________________________________________________________________\n",
            "lstm_2 (LSTM)                (None, 60)                29040     \n",
            "_________________________________________________________________\n",
            "dense (Dense)                (None, 1)                 61        \n",
            "=================================================================\n",
            "Total params: 73,021\n",
            "Trainable params: 73,021\n",
            "Non-trainable params: 0\n",
            "_________________________________________________________________\n"
          ],
          "name": "stdout"
        }
      ]
    },
    {
      "cell_type": "code",
      "metadata": {
        "id": "X4-mhqZPJjiY",
        "colab_type": "code",
        "colab": {
          "base_uri": "https://localhost:8080/",
          "height": 1000
        },
        "outputId": "bd94a0f6-9a29-474b-f1dd-f5ef86786b29"
      },
      "source": [
        "model.fit(X_train,y_train,validation_data=(X_test,ytest),epochs=100,batch_size=64,verbose=1)"
      ],
      "execution_count": 18,
      "outputs": [
        {
          "output_type": "stream",
          "text": [
            "Epoch 1/100\n",
            "15/15 [==============================] - 1s 78ms/step - loss: 0.0010 - val_loss: 0.1160\n",
            "Epoch 2/100\n",
            "15/15 [==============================] - 0s 17ms/step - loss: 2.7980e-04 - val_loss: 0.0567\n",
            "Epoch 3/100\n",
            "15/15 [==============================] - 0s 15ms/step - loss: 1.1185e-04 - val_loss: 0.0137\n",
            "Epoch 4/100\n",
            "15/15 [==============================] - 0s 15ms/step - loss: 8.7264e-05 - val_loss: 0.0259\n",
            "Epoch 5/100\n",
            "15/15 [==============================] - 0s 15ms/step - loss: 8.4351e-05 - val_loss: 0.0164\n",
            "Epoch 6/100\n",
            "15/15 [==============================] - 0s 15ms/step - loss: 7.9954e-05 - val_loss: 0.0195\n",
            "Epoch 7/100\n",
            "15/15 [==============================] - 0s 15ms/step - loss: 7.9101e-05 - val_loss: 0.0185\n",
            "Epoch 8/100\n",
            "15/15 [==============================] - 0s 15ms/step - loss: 8.0605e-05 - val_loss: 0.0158\n",
            "Epoch 9/100\n",
            "15/15 [==============================] - 0s 15ms/step - loss: 7.4214e-05 - val_loss: 0.0172\n",
            "Epoch 10/100\n",
            "15/15 [==============================] - 0s 15ms/step - loss: 7.5059e-05 - val_loss: 0.0162\n",
            "Epoch 11/100\n",
            "15/15 [==============================] - 0s 15ms/step - loss: 7.4061e-05 - val_loss: 0.0143\n",
            "Epoch 12/100\n",
            "15/15 [==============================] - 0s 15ms/step - loss: 6.8145e-05 - val_loss: 0.0175\n",
            "Epoch 13/100\n",
            "15/15 [==============================] - 0s 16ms/step - loss: 7.4265e-05 - val_loss: 0.0125\n",
            "Epoch 14/100\n",
            "15/15 [==============================] - 0s 15ms/step - loss: 6.7009e-05 - val_loss: 0.0173\n",
            "Epoch 15/100\n",
            "15/15 [==============================] - 0s 16ms/step - loss: 7.8757e-05 - val_loss: 0.0132\n",
            "Epoch 16/100\n",
            "15/15 [==============================] - 0s 15ms/step - loss: 6.8204e-05 - val_loss: 0.0153\n",
            "Epoch 17/100\n",
            "15/15 [==============================] - 0s 15ms/step - loss: 6.0930e-05 - val_loss: 0.0104\n",
            "Epoch 18/100\n",
            "15/15 [==============================] - 0s 15ms/step - loss: 7.1159e-05 - val_loss: 0.0150\n",
            "Epoch 19/100\n",
            "15/15 [==============================] - 0s 16ms/step - loss: 6.3082e-05 - val_loss: 0.0101\n",
            "Epoch 20/100\n",
            "15/15 [==============================] - 0s 15ms/step - loss: 7.2107e-05 - val_loss: 0.0128\n",
            "Epoch 21/100\n",
            "15/15 [==============================] - 0s 15ms/step - loss: 5.8418e-05 - val_loss: 0.0098\n",
            "Epoch 22/100\n",
            "15/15 [==============================] - 0s 15ms/step - loss: 5.7519e-05 - val_loss: 0.0140\n",
            "Epoch 23/100\n",
            "15/15 [==============================] - 0s 16ms/step - loss: 5.5105e-05 - val_loss: 0.0110\n",
            "Epoch 24/100\n",
            "15/15 [==============================] - 0s 15ms/step - loss: 5.4283e-05 - val_loss: 0.0127\n",
            "Epoch 25/100\n",
            "15/15 [==============================] - 0s 15ms/step - loss: 5.3706e-05 - val_loss: 0.0103\n",
            "Epoch 26/100\n",
            "15/15 [==============================] - 0s 15ms/step - loss: 5.3738e-05 - val_loss: 0.0106\n",
            "Epoch 27/100\n",
            "15/15 [==============================] - 0s 16ms/step - loss: 5.4290e-05 - val_loss: 0.0097\n",
            "Epoch 28/100\n",
            "15/15 [==============================] - 0s 15ms/step - loss: 5.0064e-05 - val_loss: 0.0107\n",
            "Epoch 29/100\n",
            "15/15 [==============================] - 0s 15ms/step - loss: 5.2751e-05 - val_loss: 0.0099\n",
            "Epoch 30/100\n",
            "15/15 [==============================] - 0s 15ms/step - loss: 5.0592e-05 - val_loss: 0.0101\n",
            "Epoch 31/100\n",
            "15/15 [==============================] - 0s 15ms/step - loss: 4.5508e-05 - val_loss: 0.0106\n",
            "Epoch 32/100\n",
            "15/15 [==============================] - 0s 15ms/step - loss: 4.5339e-05 - val_loss: 0.0112\n",
            "Epoch 33/100\n",
            "15/15 [==============================] - 0s 15ms/step - loss: 4.8492e-05 - val_loss: 0.0090\n",
            "Epoch 34/100\n",
            "15/15 [==============================] - 0s 16ms/step - loss: 5.2197e-05 - val_loss: 0.0066\n",
            "Epoch 35/100\n",
            "15/15 [==============================] - 0s 16ms/step - loss: 4.4220e-05 - val_loss: 0.0110\n",
            "Epoch 36/100\n",
            "15/15 [==============================] - 0s 15ms/step - loss: 4.5378e-05 - val_loss: 0.0097\n",
            "Epoch 37/100\n",
            "15/15 [==============================] - 0s 15ms/step - loss: 5.8031e-05 - val_loss: 0.0095\n",
            "Epoch 38/100\n",
            "15/15 [==============================] - 0s 15ms/step - loss: 4.3757e-05 - val_loss: 0.0105\n",
            "Epoch 39/100\n",
            "15/15 [==============================] - 0s 15ms/step - loss: 4.1232e-05 - val_loss: 0.0096\n",
            "Epoch 40/100\n",
            "15/15 [==============================] - 0s 16ms/step - loss: 3.9917e-05 - val_loss: 0.0115\n",
            "Epoch 41/100\n",
            "15/15 [==============================] - 0s 15ms/step - loss: 4.3239e-05 - val_loss: 0.0096\n",
            "Epoch 42/100\n",
            "15/15 [==============================] - 0s 15ms/step - loss: 4.2601e-05 - val_loss: 0.0093\n",
            "Epoch 43/100\n",
            "15/15 [==============================] - 0s 15ms/step - loss: 3.8578e-05 - val_loss: 0.0079\n",
            "Epoch 44/100\n",
            "15/15 [==============================] - 0s 16ms/step - loss: 4.2519e-05 - val_loss: 0.0093\n",
            "Epoch 45/100\n",
            "15/15 [==============================] - 0s 15ms/step - loss: 3.9283e-05 - val_loss: 0.0097\n",
            "Epoch 46/100\n",
            "15/15 [==============================] - 0s 15ms/step - loss: 3.6165e-05 - val_loss: 0.0107\n",
            "Epoch 47/100\n",
            "15/15 [==============================] - 0s 15ms/step - loss: 3.5756e-05 - val_loss: 0.0107\n",
            "Epoch 48/100\n",
            "15/15 [==============================] - 0s 16ms/step - loss: 3.8171e-05 - val_loss: 0.0097\n",
            "Epoch 49/100\n",
            "15/15 [==============================] - 0s 15ms/step - loss: 3.5149e-05 - val_loss: 0.0085\n",
            "Epoch 50/100\n",
            "15/15 [==============================] - 0s 15ms/step - loss: 3.8963e-05 - val_loss: 0.0089\n",
            "Epoch 51/100\n",
            "15/15 [==============================] - 0s 15ms/step - loss: 3.7365e-05 - val_loss: 0.0094\n",
            "Epoch 52/100\n",
            "15/15 [==============================] - 0s 16ms/step - loss: 3.3379e-05 - val_loss: 0.0094\n",
            "Epoch 53/100\n",
            "15/15 [==============================] - 0s 15ms/step - loss: 3.5413e-05 - val_loss: 0.0082\n",
            "Epoch 54/100\n",
            "15/15 [==============================] - 0s 15ms/step - loss: 3.9669e-05 - val_loss: 0.0085\n",
            "Epoch 55/100\n",
            "15/15 [==============================] - 0s 16ms/step - loss: 3.2569e-05 - val_loss: 0.0090\n",
            "Epoch 56/100\n",
            "15/15 [==============================] - 0s 16ms/step - loss: 3.4121e-05 - val_loss: 0.0096\n",
            "Epoch 57/100\n",
            "15/15 [==============================] - 0s 15ms/step - loss: 3.2838e-05 - val_loss: 0.0103\n",
            "Epoch 58/100\n",
            "15/15 [==============================] - 0s 15ms/step - loss: 3.2725e-05 - val_loss: 0.0110\n",
            "Epoch 59/100\n",
            "15/15 [==============================] - 0s 15ms/step - loss: 3.1887e-05 - val_loss: 0.0074\n",
            "Epoch 60/100\n",
            "15/15 [==============================] - 0s 15ms/step - loss: 2.8843e-05 - val_loss: 0.0065\n",
            "Epoch 61/100\n",
            "15/15 [==============================] - 0s 15ms/step - loss: 3.1488e-05 - val_loss: 0.0081\n",
            "Epoch 62/100\n",
            "15/15 [==============================] - 0s 14ms/step - loss: 3.1488e-05 - val_loss: 0.0082\n",
            "Epoch 63/100\n",
            "15/15 [==============================] - 0s 15ms/step - loss: 3.4223e-05 - val_loss: 0.0086\n",
            "Epoch 64/100\n",
            "15/15 [==============================] - 0s 15ms/step - loss: 2.9480e-05 - val_loss: 0.0087\n",
            "Epoch 65/100\n",
            "15/15 [==============================] - 0s 15ms/step - loss: 2.7616e-05 - val_loss: 0.0082\n",
            "Epoch 66/100\n",
            "15/15 [==============================] - 0s 15ms/step - loss: 2.7520e-05 - val_loss: 0.0083\n",
            "Epoch 67/100\n",
            "15/15 [==============================] - 0s 15ms/step - loss: 2.8136e-05 - val_loss: 0.0063\n",
            "Epoch 68/100\n",
            "15/15 [==============================] - 0s 15ms/step - loss: 2.8825e-05 - val_loss: 0.0073\n",
            "Epoch 69/100\n",
            "15/15 [==============================] - 0s 15ms/step - loss: 2.8297e-05 - val_loss: 0.0075\n",
            "Epoch 70/100\n",
            "15/15 [==============================] - 0s 15ms/step - loss: 2.7016e-05 - val_loss: 0.0075\n",
            "Epoch 71/100\n",
            "15/15 [==============================] - 0s 14ms/step - loss: 2.6647e-05 - val_loss: 0.0086\n",
            "Epoch 72/100\n",
            "15/15 [==============================] - 0s 15ms/step - loss: 2.8413e-05 - val_loss: 0.0087\n",
            "Epoch 73/100\n",
            "15/15 [==============================] - 0s 15ms/step - loss: 2.6949e-05 - val_loss: 0.0053\n",
            "Epoch 74/100\n",
            "15/15 [==============================] - 0s 15ms/step - loss: 2.5200e-05 - val_loss: 0.0062\n",
            "Epoch 75/100\n",
            "15/15 [==============================] - 0s 15ms/step - loss: 2.5202e-05 - val_loss: 0.0081\n",
            "Epoch 76/100\n",
            "15/15 [==============================] - 0s 15ms/step - loss: 2.8834e-05 - val_loss: 0.0097\n",
            "Epoch 77/100\n",
            "15/15 [==============================] - 0s 15ms/step - loss: 2.6285e-05 - val_loss: 0.0060\n",
            "Epoch 78/100\n",
            "15/15 [==============================] - 0s 16ms/step - loss: 2.4635e-05 - val_loss: 0.0065\n",
            "Epoch 79/100\n",
            "15/15 [==============================] - 0s 15ms/step - loss: 2.3495e-05 - val_loss: 0.0070\n",
            "Epoch 80/100\n",
            "15/15 [==============================] - 0s 15ms/step - loss: 2.4181e-05 - val_loss: 0.0062\n",
            "Epoch 81/100\n",
            "15/15 [==============================] - 0s 15ms/step - loss: 2.3925e-05 - val_loss: 0.0062\n",
            "Epoch 82/100\n",
            "15/15 [==============================] - 0s 15ms/step - loss: 2.3150e-05 - val_loss: 0.0061\n",
            "Epoch 83/100\n",
            "15/15 [==============================] - 0s 14ms/step - loss: 2.3703e-05 - val_loss: 0.0068\n",
            "Epoch 84/100\n",
            "15/15 [==============================] - 0s 15ms/step - loss: 2.3736e-05 - val_loss: 0.0053\n",
            "Epoch 85/100\n",
            "15/15 [==============================] - 0s 15ms/step - loss: 2.5574e-05 - val_loss: 0.0049\n",
            "Epoch 86/100\n",
            "15/15 [==============================] - 0s 16ms/step - loss: 2.4152e-05 - val_loss: 0.0054\n",
            "Epoch 87/100\n",
            "15/15 [==============================] - 0s 15ms/step - loss: 2.3079e-05 - val_loss: 0.0076\n",
            "Epoch 88/100\n",
            "15/15 [==============================] - 0s 15ms/step - loss: 2.5475e-05 - val_loss: 0.0068\n",
            "Epoch 89/100\n",
            "15/15 [==============================] - 0s 15ms/step - loss: 2.2734e-05 - val_loss: 0.0062\n",
            "Epoch 90/100\n",
            "15/15 [==============================] - 0s 16ms/step - loss: 2.1849e-05 - val_loss: 0.0057\n",
            "Epoch 91/100\n",
            "15/15 [==============================] - 0s 15ms/step - loss: 2.0931e-05 - val_loss: 0.0055\n",
            "Epoch 92/100\n",
            "15/15 [==============================] - 0s 15ms/step - loss: 2.2038e-05 - val_loss: 0.0054\n",
            "Epoch 93/100\n",
            "15/15 [==============================] - 0s 15ms/step - loss: 2.1798e-05 - val_loss: 0.0065\n",
            "Epoch 94/100\n",
            "15/15 [==============================] - 0s 15ms/step - loss: 2.1942e-05 - val_loss: 0.0064\n",
            "Epoch 95/100\n",
            "15/15 [==============================] - 0s 15ms/step - loss: 2.2075e-05 - val_loss: 0.0066\n",
            "Epoch 96/100\n",
            "15/15 [==============================] - 0s 15ms/step - loss: 2.1698e-05 - val_loss: 0.0051\n",
            "Epoch 97/100\n",
            "15/15 [==============================] - 0s 15ms/step - loss: 2.1806e-05 - val_loss: 0.0064\n",
            "Epoch 98/100\n",
            "15/15 [==============================] - 0s 15ms/step - loss: 2.0293e-05 - val_loss: 0.0063\n",
            "Epoch 99/100\n",
            "15/15 [==============================] - 0s 15ms/step - loss: 1.9997e-05 - val_loss: 0.0065\n",
            "Epoch 100/100\n",
            "15/15 [==============================] - 0s 15ms/step - loss: 1.9387e-05 - val_loss: 0.0054\n"
          ],
          "name": "stdout"
        },
        {
          "output_type": "execute_result",
          "data": {
            "text/plain": [
              "<tensorflow.python.keras.callbacks.History at 0x7fb5d0180668>"
            ]
          },
          "metadata": {
            "tags": []
          },
          "execution_count": 18
        }
      ]
    },
    {
      "cell_type": "code",
      "metadata": {
        "id": "Xc6MaLi5J46U",
        "colab_type": "code",
        "colab": {}
      },
      "source": [
        "train_predict=model.predict(X_train)\n",
        "test_predict=model.predict(X_test)\n"
      ],
      "execution_count": 19,
      "outputs": []
    },
    {
      "cell_type": "code",
      "metadata": {
        "id": "2pKaZ04MJ7E5",
        "colab_type": "code",
        "colab": {}
      },
      "source": [
        "train_predict=scaler.inverse_transform(train_predict)\n",
        "test_predict=scaler.inverse_transform(test_predict)"
      ],
      "execution_count": 20,
      "outputs": []
    },
    {
      "cell_type": "code",
      "metadata": {
        "id": "0EoQslHAJ9wN",
        "colab_type": "code",
        "colab": {
          "base_uri": "https://localhost:8080/",
          "height": 34
        },
        "outputId": "6f92cce3-4fe6-4ed2-9a86-b4607bc0e210"
      },
      "source": [
        "import math\n",
        "from sklearn.metrics import mean_squared_error\n",
        "math.sqrt(mean_squared_error(y_train,train_predict))"
      ],
      "execution_count": 21,
      "outputs": [
        {
          "output_type": "execute_result",
          "data": {
            "text/plain": [
              "57.10988176727386"
            ]
          },
          "metadata": {
            "tags": []
          },
          "execution_count": 21
        }
      ]
    },
    {
      "cell_type": "code",
      "metadata": {
        "id": "84VXtW2WJ_cn",
        "colab_type": "code",
        "colab": {
          "base_uri": "https://localhost:8080/",
          "height": 34
        },
        "outputId": "350713c8-d861-4fe0-b3ff-ba4011ac36bd"
      },
      "source": [
        "math.sqrt(mean_squared_error(ytest,test_predict))"
      ],
      "execution_count": 22,
      "outputs": [
        {
          "output_type": "execute_result",
          "data": {
            "text/plain": [
              "224.20645058496027"
            ]
          },
          "metadata": {
            "tags": []
          },
          "execution_count": 22
        }
      ]
    },
    {
      "cell_type": "code",
      "metadata": {
        "id": "kbZtvmmrKCYI",
        "colab_type": "code",
        "colab": {
          "base_uri": "https://localhost:8080/",
          "height": 265
        },
        "outputId": "bd08d427-5571-48dd-c1ab-ce4823e20dd4"
      },
      "source": [
        "look_back=100\n",
        "trainPredictPlot = np.empty_like(df1)\n",
        "trainPredictPlot[:, :] = np.nan\n",
        "trainPredictPlot[look_back:len(train_predict)+look_back, :] = train_predict\n",
        "# shift test predictions for plotting\n",
        "testPredictPlot = np.empty_like(df1)\n",
        "testPredictPlot[:, :] = np.nan\n",
        "testPredictPlot[len(train_predict)+(look_back*2)+1:len(df1)-1, :] = test_predict\n",
        "# plot baseline and predictions\n",
        "plt.plot(scaler.inverse_transform(df1))\n",
        "plt.plot(trainPredictPlot)\n",
        "plt.plot(testPredictPlot)\n",
        "plt.show()"
      ],
      "execution_count": 23,
      "outputs": [
        {
          "output_type": "display_data",
          "data": {
            "image/png": "[encoded data removed]",
            "text/plain": [
              "<Figure size 432x288 with 1 Axes>"
            ]
          },
          "metadata": {
            "tags": [],
            "needs_background": "light"
          }
        }
      ]
    },
    {
      "cell_type": "code",
      "metadata": {
        "id": "jHUC649MKRkq",
        "colab_type": "code",
        "colab": {
          "base_uri": "https://localhost:8080/",
          "height": 34
        },
        "outputId": "c23e2a52-fa75-4a69-a7b9-ba4df71bb97c"
      },
      "source": [
        "len(test_data)"
      ],
      "execution_count": 24,
      "outputs": [
        {
          "output_type": "execute_result",
          "data": {
            "text/plain": [
              "252"
            ]
          },
          "metadata": {
            "tags": []
          },
          "execution_count": 24
        }
      ]
    },
    {
      "cell_type": "code",
      "metadata": {
        "id": "tXaF-IroKZAv",
        "colab_type": "code",
        "colab": {
          "base_uri": "https://localhost:8080/",
          "height": 34
        },
        "outputId": "a04c62e3-b6e8-4a90-a621-c1fa9d6f1815"
      },
      "source": [
        "x_input=test_data[152:].reshape(1,-1)\n",
        "x_input.shape"
      ],
      "execution_count": 25,
      "outputs": [
        {
          "output_type": "execute_result",
          "data": {
            "text/plain": [
              "(1, 100)"
            ]
          },
          "metadata": {
            "tags": []
          },
          "execution_count": 25
        }
      ]
    },
    {
      "cell_type": "code",
      "metadata": {
        "id": "LKekZz35Kku2",
        "colab_type": "code",
        "colab": {
          "base_uri": "https://localhost:8080/",
          "height": 1000
        },
        "outputId": "6281862f-c1ee-4112-bd68-d6b74af9e16e"
      },
      "source": [
        "temp_input=list(x_input)\n",
        "temp_input=temp_input[0].tolist()\n",
        "temp_input"
      ],
      "execution_count": 26,
      "outputs": [
        {
          "output_type": "execute_result",
          "data": {
            "text/plain": [
              "[0.2659959983721903,\n",
              " 0.2721163003601296,\n",
              " 0.2710344732708948,\n",
              " 0.2878067086967685,\n",
              " 0.2843440691544311,\n",
              " 0.28354338128293155,\n",
              " 0.2756853906742308,\n",
              " 0.2809538590291455,\n",
              " 0.27918208406541084,\n",
              " 0.28534069663329814,\n",
              " 0.28294711398687955,\n",
              " 0.2861627006544549,\n",
              " 0.29129063189463256,\n",
              " 0.2867249141016643,\n",
              " 0.28757245850945307,\n",
              " 0.2881516988810837,\n",
              " 0.2820101132376177,\n",
              " 0.29444233510149737,\n",
              " 0.32131706071141214,\n",
              " 0.3142725606616575,\n",
              " 0.3148688279577095,\n",
              " 0.3069554998446395,\n",
              " 0.31601879523876014,\n",
              " 0.3433875616099378,\n",
              " 0.3394479407248894,\n",
              " 0.3753859617289248,\n",
              " 0.3531493508348995,\n",
              " 0.337152295388024,\n",
              " 0.36084123144810065,\n",
              " 0.3571060311384998,\n",
              " 0.36122030797538907,\n",
              " 0.36640360921406656,\n",
              " 0.3651003021308323,\n",
              " 0.36229784583938796,\n",
              " 0.36547512192701537,\n",
              " 0.34804273574437916,\n",
              " 0.35874578244970806,\n",
              " 0.34756997863864286,\n",
              " 0.3686992220568014,\n",
              " 0.3987086564432902,\n",
              " 0.4156682530260596,\n",
              " 0.45358675879451305,\n",
              " 0.522975570071848,\n",
              " 0.5307610987693665,\n",
              " 0.5205478685883257,\n",
              " 0.5326436137301008,\n",
              " 0.596687270504364,\n",
              " 0.5764183416873103,\n",
              " 0.5848257430557738,\n",
              " 0.5972665108759947,\n",
              " 0.5779430962704135,\n",
              " 0.5780282958807812,\n",
              " 0.6385752592638644,\n",
              " 0.6067855364514303,\n",
              " 0.6169945423954963,\n",
              " 0.5832371700002212,\n",
              " 0.5423202358388254,\n",
              " 0.5945364840016022,\n",
              " 0.5676574691664515,\n",
              " 0.5772914589758616,\n",
              " 0.5723424079244996,\n",
              " 0.5481807472528173,\n",
              " 0.5712819294790527,\n",
              " 0.5721337306179467,\n",
              " 0.5712904429412633,\n",
              " 0.5732325521374723,\n",
              " 0.5575293736075173,\n",
              " 0.5429889000577985,\n",
              " 0.5241723289009268,\n",
              " 0.6009931977233849,\n",
              " 0.6292053167595071,\n",
              " 0.6418589861232556,\n",
              " 0.7206219641419227,\n",
              " 0.74253490100129,\n",
              " 0.7388891245390317,\n",
              " 0.7914034738557039,\n",
              " 0.8119109095911784,\n",
              " 0.7966719422106185,\n",
              " 0.8005647390535083,\n",
              " 0.8558602610060981,\n",
              " 0.8923093821899484,\n",
              " 0.8815126224120411,\n",
              " 1.0,\n",
              " 0.9504456710139306,\n",
              " 0.8915001483621076,\n",
              " 0.8055308170292916,\n",
              " 0.8296371726907353,\n",
              " 0.642003779969098,\n",
              " 0.7188161353293454,\n",
              " 0.7295915789575955,\n",
              " 0.7325303481268022,\n",
              " 0.8324055426392064,\n",
              " 0.8965897690223372,\n",
              " 0.8795534862914107,\n",
              " 0.8405190670907492,\n",
              " 0.8803839712806476,\n",
              " 0.8958018513441537,\n",
              " 0.8422227343567985,\n",
              " 0.7487999643409411,\n",
              " 0.7646224613183675]"
            ]
          },
          "metadata": {
            "tags": []
          },
          "execution_count": 26
        }
      ]
    },
    {
      "cell_type": "code",
      "metadata": {
        "id": "xJdCmDc2KnyX",
        "colab_type": "code",
        "colab": {
          "base_uri": "https://localhost:8080/",
          "height": 185
        },
        "outputId": "16d62e31-a828-4217-d057-79ab24675dd5"
      },
      "source": [
        "from numpy import array\n",
        "lst_output=[]\n",
        "n_steps=100\n",
        "i=0\n",
        "while(i<11):\n",
        "    \n",
        "    if(len(temp_input)>100):\n",
        "        #print(temp_input)\n",
        "        x_input=np.array(temp_input[1:])\n",
        "        #print(\"{} day input {}\".format(i,x_input))\n",
        "        x_input=x_input.reshape(1,-1)\n",
        "        x_input = x_input.reshape((1, n_steps, 1))\n",
        "        #print(x_input)\n",
        "        yhat = model.predict(x_input, verbose=0)\n",
        "        print(\"{} day Prediction {}\".format(i,yhat))\n",
        "        temp_input.extend(yhat[0].tolist())\n",
        "        temp_input=temp_input[1:]\n",
        "        #print(temp_input)\n",
        "        lst_output.extend(yhat.tolist())\n",
        "        i=i+1\n",
        "    else:\n",
        "        x_input = x_input.reshape((1, n_steps,1))\n",
        "        yhat = model.predict(x_input, verbose=0)\n",
        "        #print(yhat[0])\n",
        "        temp_input.extend(yhat[0].tolist())\n",
        "        #print(len(temp_input))\n",
        "        lst_output.extend(yhat.tolist())\n",
        "        i=i+1\n",
        "    \n",
        "\n",
        "\n"
      ],
      "execution_count": 27,
      "outputs": [
        {
          "output_type": "stream",
          "text": [
            "1 day Prediction [[0.58560824]]\n",
            "2 day Prediction [[0.52537066]]\n",
            "3 day Prediction [[0.470274]]\n",
            "4 day Prediction [[0.42486656]]\n",
            "5 day Prediction [[0.39037806]]\n",
            "6 day Prediction [[0.36613104]]\n",
            "7 day Prediction [[0.35045773]]\n",
            "8 day Prediction [[0.34124902]]\n",
            "9 day Prediction [[0.33632126]]\n",
            "10 day Prediction [[0.33367905]]\n"
          ],
          "name": "stdout"
        }
      ]
    },
    {
      "cell_type": "code",
      "metadata": {
        "id": "OlZGQS53LdLl",
        "colab_type": "code",
        "colab": {
          "base_uri": "https://localhost:8080/",
          "height": 70
        },
        "outputId": "6760fe19-d316-46d7-ffd5-9f7dc44f5c84"
      },
      "source": [
        "print(lst_output)\n",
        "print(len(lst_output))"
      ],
      "execution_count": 28,
      "outputs": [
        {
          "output_type": "stream",
          "text": [
            "[[0.6420430541038513], [0.5856082439422607], [0.5253706574440002], [0.4702740013599396], [0.42486655712127686], [0.39037805795669556], [0.3661310374736786], [0.35045772790908813], [0.341249018907547], [0.33632126450538635], [0.33367905020713806]]\n",
            "11\n"
          ],
          "name": "stdout"
        }
      ]
    },
    {
      "cell_type": "code",
      "metadata": {
        "id": "28QV4H-Z_JUG",
        "colab_type": "code",
        "colab": {
          "base_uri": "https://localhost:8080/",
          "height": 54
        },
        "outputId": "dc7bef91-0087-41a2-b155-aade50fabefd"
      },
      "source": [
        "import itertools\n",
        "b = lst_output\n",
        "c =list(itertools.chain.from_iterable(b))\n",
        "print(c)\n"
      ],
      "execution_count": 29,
      "outputs": [
        {
          "output_type": "stream",
          "text": [
            "[0.6420430541038513, 0.5856082439422607, 0.5253706574440002, 0.4702740013599396, 0.42486655712127686, 0.39037805795669556, 0.3661310374736786, 0.35045772790908813, 0.341249018907547, 0.33632126450538635, 0.33367905020713806]\n"
          ],
          "name": "stdout"
        }
      ]
    },
    {
      "cell_type": "code",
      "metadata": {
        "id": "NqM2A8WzAWAu",
        "colab_type": "code",
        "colab": {
          "base_uri": "https://localhost:8080/",
          "height": 202
        },
        "outputId": "86405ce6-cef6-4821-d875-33c9cc944122"
      },
      "source": [
        "e = scaler.inverse_transform(b)\n",
        "e"
      ],
      "execution_count": 33,
      "outputs": [
        {
          "output_type": "execute_result",
          "data": {
            "text/plain": [
              "array([[330.22843404],\n",
              "       [303.72743682],\n",
              "       [275.44070904],\n",
              "       [249.56809025],\n",
              "       [228.24538977],\n",
              "       [212.05007313],\n",
              "       [200.66401157],\n",
              "       [193.3040447 ],\n",
              "       [188.9797638 ],\n",
              "       [186.66575928],\n",
              "       [185.42501242]])"
            ]
          },
          "metadata": {
            "tags": []
          },
          "execution_count": 33
        }
      ]
    },
    {
      "cell_type": "code",
      "metadata": {
        "id": "EDgnqnDIBFme",
        "colab_type": "code",
        "colab": {}
      },
      "source": [
        ""
      ],
      "execution_count": null,
      "outputs": []
    }
  ]
}