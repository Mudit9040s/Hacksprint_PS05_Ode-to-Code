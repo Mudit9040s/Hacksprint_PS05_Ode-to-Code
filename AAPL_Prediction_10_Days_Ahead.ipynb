{
  "nbformat": 4,
  "nbformat_minor": 0,
  "metadata": {
    "colab": {
      "name": "AAPL Prediction_10_Days_Ahead.ipynb",
      "provenance": []
    },
    "kernelspec": {
      "name": "python3",
      "display_name": "Python 3"
    },
    "accelerator": "GPU"
  },
  "cells": [
    {
      "cell_type": "code",
      "metadata": {
        "id": "iG_JhbP7BMQt",
        "colab_type": "code",
        "colab": {}
      },
      "source": [
        "import pandas as pd\n",
        "from pandas_datareader import data, wb\n",
        "import datetime"
      ],
      "execution_count": 75,
      "outputs": []
    },
    {
      "cell_type": "code",
      "metadata": {
        "id": "tuTZT465DRl9",
        "colab_type": "code",
        "colab": {
          "base_uri": "https://localhost:8080/",
          "height": 431
        },
        "outputId": "e0c994d5-ce2d-4aaf-d9c1-e0e3ca1c04cf"
      },
      "source": [
        "start = pd.to_datetime('2015-09-24')\n",
        "end = pd.to_datetime('2020-09-24')\n",
        "data_df = data.DataReader('AAPL','yahoo',start,end)\n",
        "data_df"
      ],
      "execution_count": 76,
      "outputs": [
        {
          "output_type": "execute_result",
          "data": {
            "text/html": [
              "<div>\n",
              "<style scoped>\n",
              "    .dataframe tbody tr th:only-of-type {\n",
              "        vertical-align: middle;\n",
              "    }\n",
              "\n",
              "    .dataframe tbody tr th {\n",
              "        vertical-align: top;\n",
              "    }\n",
              "\n",
              "    .dataframe thead th {\n",
              "        text-align: right;\n",
              "    }\n",
              "</style>\n",
              "<table border=\"1\" class=\"dataframe\">\n",
              "  <thead>\n",
              "    <tr style=\"text-align: right;\">\n",
              "      <th></th>\n",
              "      <th>High</th>\n",
              "      <th>Low</th>\n",
              "      <th>Open</th>\n",
              "      <th>Close</th>\n",
              "      <th>Volume</th>\n",
              "      <th>Adj Close</th>\n",
              "    </tr>\n",
              "    <tr>\n",
              "      <th>Date</th>\n",
              "      <th></th>\n",
              "      <th></th>\n",
              "      <th></th>\n",
              "      <th></th>\n",
              "      <th></th>\n",
              "      <th></th>\n",
              "    </tr>\n",
              "  </thead>\n",
              "  <tbody>\n",
              "    <tr>\n",
              "      <th>2015-09-24</th>\n",
              "      <td>28.875000</td>\n",
              "      <td>28.092501</td>\n",
              "      <td>28.312500</td>\n",
              "      <td>28.750000</td>\n",
              "      <td>200878000.0</td>\n",
              "      <td>26.568277</td>\n",
              "    </tr>\n",
              "    <tr>\n",
              "      <th>2015-09-25</th>\n",
              "      <td>29.172501</td>\n",
              "      <td>28.504999</td>\n",
              "      <td>29.110001</td>\n",
              "      <td>28.677500</td>\n",
              "      <td>224607600.0</td>\n",
              "      <td>26.501280</td>\n",
              "    </tr>\n",
              "    <tr>\n",
              "      <th>2015-09-28</th>\n",
              "      <td>28.642500</td>\n",
              "      <td>28.110001</td>\n",
              "      <td>28.462500</td>\n",
              "      <td>28.110001</td>\n",
              "      <td>208436000.0</td>\n",
              "      <td>25.976849</td>\n",
              "    </tr>\n",
              "    <tr>\n",
              "      <th>2015-09-29</th>\n",
              "      <td>28.377501</td>\n",
              "      <td>26.965000</td>\n",
              "      <td>28.207500</td>\n",
              "      <td>27.264999</td>\n",
              "      <td>293461600.0</td>\n",
              "      <td>25.195972</td>\n",
              "    </tr>\n",
              "    <tr>\n",
              "      <th>2015-09-30</th>\n",
              "      <td>27.885000</td>\n",
              "      <td>27.182501</td>\n",
              "      <td>27.542500</td>\n",
              "      <td>27.575001</td>\n",
              "      <td>265892000.0</td>\n",
              "      <td>25.482449</td>\n",
              "    </tr>\n",
              "    <tr>\n",
              "      <th>...</th>\n",
              "      <td>...</td>\n",
              "      <td>...</td>\n",
              "      <td>...</td>\n",
              "      <td>...</td>\n",
              "      <td>...</td>\n",
              "      <td>...</td>\n",
              "    </tr>\n",
              "    <tr>\n",
              "      <th>2020-09-18</th>\n",
              "      <td>110.879997</td>\n",
              "      <td>106.089996</td>\n",
              "      <td>110.400002</td>\n",
              "      <td>106.839996</td>\n",
              "      <td>287104900.0</td>\n",
              "      <td>106.839996</td>\n",
              "    </tr>\n",
              "    <tr>\n",
              "      <th>2020-09-21</th>\n",
              "      <td>110.190002</td>\n",
              "      <td>103.099998</td>\n",
              "      <td>104.540001</td>\n",
              "      <td>110.080002</td>\n",
              "      <td>195713800.0</td>\n",
              "      <td>110.080002</td>\n",
              "    </tr>\n",
              "    <tr>\n",
              "      <th>2020-09-22</th>\n",
              "      <td>112.860001</td>\n",
              "      <td>109.160004</td>\n",
              "      <td>112.680000</td>\n",
              "      <td>111.809998</td>\n",
              "      <td>183055400.0</td>\n",
              "      <td>111.809998</td>\n",
              "    </tr>\n",
              "    <tr>\n",
              "      <th>2020-09-23</th>\n",
              "      <td>112.110001</td>\n",
              "      <td>106.769997</td>\n",
              "      <td>111.620003</td>\n",
              "      <td>107.120003</td>\n",
              "      <td>150718700.0</td>\n",
              "      <td>107.120003</td>\n",
              "    </tr>\n",
              "    <tr>\n",
              "      <th>2020-09-24</th>\n",
              "      <td>110.250000</td>\n",
              "      <td>105.000000</td>\n",
              "      <td>105.169998</td>\n",
              "      <td>108.220001</td>\n",
              "      <td>166602400.0</td>\n",
              "      <td>108.220001</td>\n",
              "    </tr>\n",
              "  </tbody>\n",
              "</table>\n",
              "<p>1260 rows × 6 columns</p>\n",
              "</div>"
            ],
            "text/plain": [
              "                  High         Low  ...       Volume   Adj Close\n",
              "Date                                ...                         \n",
              "2015-09-24   28.875000   28.092501  ...  200878000.0   26.568277\n",
              "2015-09-25   29.172501   28.504999  ...  224607600.0   26.501280\n",
              "2015-09-28   28.642500   28.110001  ...  208436000.0   25.976849\n",
              "2015-09-29   28.377501   26.965000  ...  293461600.0   25.195972\n",
              "2015-09-30   27.885000   27.182501  ...  265892000.0   25.482449\n",
              "...                ...         ...  ...          ...         ...\n",
              "2020-09-18  110.879997  106.089996  ...  287104900.0  106.839996\n",
              "2020-09-21  110.190002  103.099998  ...  195713800.0  110.080002\n",
              "2020-09-22  112.860001  109.160004  ...  183055400.0  111.809998\n",
              "2020-09-23  112.110001  106.769997  ...  150718700.0  107.120003\n",
              "2020-09-24  110.250000  105.000000  ...  166602400.0  108.220001\n",
              "\n",
              "[1260 rows x 6 columns]"
            ]
          },
          "metadata": {
            "tags": []
          },
          "execution_count": 76
        }
      ]
    },
    {
      "cell_type": "code",
      "metadata": {
        "id": "iy4ujlgLDbCm",
        "colab_type": "code",
        "colab": {
          "base_uri": "https://localhost:8080/",
          "height": 218
        },
        "outputId": "52081019-a72f-4bd1-9596-1e8a5c35fbb2"
      },
      "source": [
        "df1=data_df.reset_index()['Close']\n",
        "df1"
      ],
      "execution_count": 77,
      "outputs": [
        {
          "output_type": "execute_result",
          "data": {
            "text/plain": [
              "0        28.750000\n",
              "1        28.677500\n",
              "2        28.110001\n",
              "3        27.264999\n",
              "4        27.575001\n",
              "           ...    \n",
              "1255    106.839996\n",
              "1256    110.080002\n",
              "1257    111.809998\n",
              "1258    107.120003\n",
              "1259    108.220001\n",
              "Name: Close, Length: 1260, dtype: float64"
            ]
          },
          "metadata": {
            "tags": []
          },
          "execution_count": 77
        }
      ]
    },
    {
      "cell_type": "code",
      "metadata": {
        "id": "xAL8pwNuFXJq",
        "colab_type": "code",
        "colab": {
          "base_uri": "https://localhost:8080/",
          "height": 282
        },
        "outputId": "f3e76995-5df5-4c4f-c047-e3dab7aaec94"
      },
      "source": [
        "import matplotlib.pyplot as plt\n",
        "plt.plot(df1)"
      ],
      "execution_count": 78,
      "outputs": [
        {
          "output_type": "execute_result",
          "data": {
            "text/plain": [
              "[<matplotlib.lines.Line2D at 0x7f18e0ce9e10>]"
            ]
          },
          "metadata": {
            "tags": []
          },
          "execution_count": 78
        },
        {
          "output_type": "display_data",
          "data": {
            "image/png": "[encoded data removed]",
            "text/plain": [
              "<Figure size 432x288 with 1 Axes>"
            ]
          },
          "metadata": {
            "tags": [],
            "needs_background": "light"
          }
        }
      ]
    },
    {
      "cell_type": "code",
      "metadata": {
        "id": "JrYvKjccHUK_",
        "colab_type": "code",
        "colab": {
          "base_uri": "https://localhost:8080/",
          "height": 134
        },
        "outputId": "308098c0-7aa2-44f4-ac84-d52b3d03048b"
      },
      "source": [
        "from sklearn.preprocessing import MinMaxScaler\n",
        "scaler=MinMaxScaler(feature_range=(0,1))\n",
        "import numpy as np\n",
        "df1=scaler.fit_transform(np.array(df1).reshape(-1,1))\n",
        "df1"
      ],
      "execution_count": 79,
      "outputs": [
        {
          "output_type": "execute_result",
          "data": {
            "text/plain": [
              "array([[0.05524442],\n",
              "       [0.05459475],\n",
              "       [0.0495094 ],\n",
              "       ...,\n",
              "       [0.79954302],\n",
              "       [0.75751609],\n",
              "       [0.76737315]])"
            ]
          },
          "metadata": {
            "tags": []
          },
          "execution_count": 79
        }
      ]
    },
    {
      "cell_type": "code",
      "metadata": {
        "id": "PyMEiQs_HbAU",
        "colab_type": "code",
        "colab": {}
      },
      "source": [
        "training_size=int(len(df1)*0.80)\n",
        "test_size=len(df1)-training_size\n",
        "train_data,test_data=df1[0:training_size,:],df1[training_size:len(df1),:1]"
      ],
      "execution_count": 80,
      "outputs": []
    },
    {
      "cell_type": "code",
      "metadata": {
        "id": "M8dFAFK5Il1e",
        "colab_type": "code",
        "colab": {
          "base_uri": "https://localhost:8080/",
          "height": 34
        },
        "outputId": "8e6231a8-7f01-4c8f-e007-e0b6a06fb0e8"
      },
      "source": [
        "training_size,test_size"
      ],
      "execution_count": 81,
      "outputs": [
        {
          "output_type": "execute_result",
          "data": {
            "text/plain": [
              "(1008, 252)"
            ]
          },
          "metadata": {
            "tags": []
          },
          "execution_count": 81
        }
      ]
    },
    {
      "cell_type": "code",
      "metadata": {
        "id": "NkC9OAYIIpB7",
        "colab_type": "code",
        "colab": {}
      },
      "source": [
        "def create_dataset(dataset, time_step=1):\n",
        "\tdataX, dataY = [], []\n",
        "\tfor i in range(len(dataset)-time_step-1):\n",
        "\t\ta = dataset[i:(i+time_step), 0]   \n",
        "\t\tdataX.append(a)\n",
        "\t\tdataY.append(dataset[i + time_step, 0])\n",
        "\treturn np.array(dataX), np.array(dataY)"
      ],
      "execution_count": 82,
      "outputs": []
    },
    {
      "cell_type": "code",
      "metadata": {
        "id": "Qb9-IyCUI8Iz",
        "colab_type": "code",
        "colab": {}
      },
      "source": [
        "time_step = 100\n",
        "X_train, y_train = create_dataset(train_data, time_step)\n",
        "X_test, ytest = create_dataset(test_data, time_step)"
      ],
      "execution_count": 83,
      "outputs": []
    },
    {
      "cell_type": "code",
      "metadata": {
        "id": "QguzhmiZI-do",
        "colab_type": "code",
        "colab": {
          "base_uri": "https://localhost:8080/",
          "height": 67
        },
        "outputId": "5ea5befe-171d-4574-f4c0-cb4e912b3775"
      },
      "source": [
        "print(X_train.shape), print(y_train.shape)"
      ],
      "execution_count": 84,
      "outputs": [
        {
          "output_type": "stream",
          "text": [
            "(907, 100)\n",
            "(907,)\n"
          ],
          "name": "stdout"
        },
        {
          "output_type": "execute_result",
          "data": {
            "text/plain": [
              "(None, None)"
            ]
          },
          "metadata": {
            "tags": []
          },
          "execution_count": 84
        }
      ]
    },
    {
      "cell_type": "code",
      "metadata": {
        "id": "a-3l-Xu7JBNb",
        "colab_type": "code",
        "colab": {
          "base_uri": "https://localhost:8080/",
          "height": 67
        },
        "outputId": "b754dd2d-5c2e-480e-e0bb-162426f9da35"
      },
      "source": [
        "print(X_test.shape), print(ytest.shape)"
      ],
      "execution_count": 85,
      "outputs": [
        {
          "output_type": "stream",
          "text": [
            "(151, 100)\n",
            "(151,)\n"
          ],
          "name": "stdout"
        },
        {
          "output_type": "execute_result",
          "data": {
            "text/plain": [
              "(None, None)"
            ]
          },
          "metadata": {
            "tags": []
          },
          "execution_count": 85
        }
      ]
    },
    {
      "cell_type": "code",
      "metadata": {
        "id": "9oHYQUKGJOTC",
        "colab_type": "code",
        "colab": {}
      },
      "source": [
        "X_train =X_train.reshape(X_train.shape[0],X_train.shape[1] , 1)\n",
        "X_test = X_test.reshape(X_test.shape[0],X_test.shape[1] , 1)"
      ],
      "execution_count": 86,
      "outputs": []
    },
    {
      "cell_type": "code",
      "metadata": {
        "id": "a0BuTUgNJYHR",
        "colab_type": "code",
        "colab": {}
      },
      "source": [
        "from tensorflow.keras.models import Sequential\n",
        "from tensorflow.keras.layers import Dense\n",
        "from tensorflow.keras.layers import LSTM"
      ],
      "execution_count": 87,
      "outputs": []
    },
    {
      "cell_type": "code",
      "metadata": {
        "id": "-KyCHJlHJZuQ",
        "colab_type": "code",
        "colab": {}
      },
      "source": [
        "model=Sequential()\n",
        "model.add(LSTM(50,return_sequences=True,input_shape=(100,1)))\n",
        "model.add(LSTM(50,return_sequences=True))\n",
        "model.add(LSTM(50))\n",
        "model.add(Dense(1))\n",
        "model.compile(loss='mean_squared_error',optimizer='adam')"
      ],
      "execution_count": 88,
      "outputs": []
    },
    {
      "cell_type": "code",
      "metadata": {
        "id": "FOqM6UfjJgSk",
        "colab_type": "code",
        "colab": {
          "base_uri": "https://localhost:8080/",
          "height": 286
        },
        "outputId": "687b859a-04f3-47d8-fbdc-404c4a1e3ea4"
      },
      "source": [
        "model.summary()"
      ],
      "execution_count": 89,
      "outputs": [
        {
          "output_type": "stream",
          "text": [
            "Model: \"sequential_2\"\n",
            "_________________________________________________________________\n",
            "Layer (type)                 Output Shape              Param #   \n",
            "=================================================================\n",
            "lstm_6 (LSTM)                (None, 100, 50)           10400     \n",
            "_________________________________________________________________\n",
            "lstm_7 (LSTM)                (None, 100, 50)           20200     \n",
            "_________________________________________________________________\n",
            "lstm_8 (LSTM)                (None, 50)                20200     \n",
            "_________________________________________________________________\n",
            "dense_2 (Dense)              (None, 1)                 51        \n",
            "=================================================================\n",
            "Total params: 50,851\n",
            "Trainable params: 50,851\n",
            "Non-trainable params: 0\n",
            "_________________________________________________________________\n"
          ],
          "name": "stdout"
        }
      ]
    },
    {
      "cell_type": "code",
      "metadata": {
        "id": "X4-mhqZPJjiY",
        "colab_type": "code",
        "colab": {
          "base_uri": "https://localhost:8080/",
          "height": 1000
        },
        "outputId": "49a5eba8-7f92-4b62-85a5-288a8edc9cdd"
      },
      "source": [
        "model.fit(X_train,y_train,validation_data=(X_test,ytest),epochs=100,batch_size=64,verbose=1)"
      ],
      "execution_count": 90,
      "outputs": [
        {
          "output_type": "stream",
          "text": [
            "Epoch 1/100\n",
            "15/15 [==============================] - 1s 78ms/step - loss: 0.0074 - val_loss: 0.0763\n",
            "Epoch 2/100\n",
            "15/15 [==============================] - 0s 17ms/step - loss: 0.0011 - val_loss: 0.0132\n",
            "Epoch 3/100\n",
            "15/15 [==============================] - 0s 15ms/step - loss: 5.0927e-04 - val_loss: 0.0067\n",
            "Epoch 4/100\n",
            "15/15 [==============================] - 0s 16ms/step - loss: 3.5664e-04 - val_loss: 0.0077\n",
            "Epoch 5/100\n",
            "15/15 [==============================] - 0s 15ms/step - loss: 2.9815e-04 - val_loss: 0.0058\n",
            "Epoch 6/100\n",
            "15/15 [==============================] - 0s 15ms/step - loss: 2.9083e-04 - val_loss: 0.0066\n",
            "Epoch 7/100\n",
            "15/15 [==============================] - 0s 15ms/step - loss: 2.8175e-04 - val_loss: 0.0083\n",
            "Epoch 8/100\n",
            "15/15 [==============================] - 0s 16ms/step - loss: 2.8500e-04 - val_loss: 0.0082\n",
            "Epoch 9/100\n",
            "15/15 [==============================] - 0s 15ms/step - loss: 2.6162e-04 - val_loss: 0.0058\n",
            "Epoch 10/100\n",
            "15/15 [==============================] - 0s 15ms/step - loss: 2.7316e-04 - val_loss: 0.0075\n",
            "Epoch 11/100\n",
            "15/15 [==============================] - 0s 15ms/step - loss: 2.3282e-04 - val_loss: 0.0065\n",
            "Epoch 12/100\n",
            "15/15 [==============================] - 0s 16ms/step - loss: 2.2087e-04 - val_loss: 0.0064\n",
            "Epoch 13/100\n",
            "15/15 [==============================] - 0s 15ms/step - loss: 2.0986e-04 - val_loss: 0.0055\n",
            "Epoch 14/100\n",
            "15/15 [==============================] - 0s 15ms/step - loss: 2.0301e-04 - val_loss: 0.0072\n",
            "Epoch 15/100\n",
            "15/15 [==============================] - 0s 15ms/step - loss: 1.9550e-04 - val_loss: 0.0055\n",
            "Epoch 16/100\n",
            "15/15 [==============================] - 0s 16ms/step - loss: 1.8733e-04 - val_loss: 0.0076\n",
            "Epoch 17/100\n",
            "15/15 [==============================] - 0s 15ms/step - loss: 1.9203e-04 - val_loss: 0.0067\n",
            "Epoch 18/100\n",
            "15/15 [==============================] - 0s 15ms/step - loss: 1.7799e-04 - val_loss: 0.0057\n",
            "Epoch 19/100\n",
            "15/15 [==============================] - 0s 15ms/step - loss: 1.8090e-04 - val_loss: 0.0084\n",
            "Epoch 20/100\n",
            "15/15 [==============================] - 0s 15ms/step - loss: 1.7249e-04 - val_loss: 0.0063\n",
            "Epoch 21/100\n",
            "15/15 [==============================] - 0s 15ms/step - loss: 1.7199e-04 - val_loss: 0.0058\n",
            "Epoch 22/100\n",
            "15/15 [==============================] - 0s 15ms/step - loss: 1.6713e-04 - val_loss: 0.0059\n",
            "Epoch 23/100\n",
            "15/15 [==============================] - 0s 15ms/step - loss: 1.7356e-04 - val_loss: 0.0064\n",
            "Epoch 24/100\n",
            "15/15 [==============================] - 0s 15ms/step - loss: 1.7080e-04 - val_loss: 0.0047\n",
            "Epoch 25/100\n",
            "15/15 [==============================] - 0s 16ms/step - loss: 1.6533e-04 - val_loss: 0.0042\n",
            "Epoch 26/100\n",
            "15/15 [==============================] - 0s 16ms/step - loss: 1.8545e-04 - val_loss: 0.0055\n",
            "Epoch 27/100\n",
            "15/15 [==============================] - 0s 15ms/step - loss: 1.5216e-04 - val_loss: 0.0053\n",
            "Epoch 28/100\n",
            "15/15 [==============================] - 0s 15ms/step - loss: 1.5120e-04 - val_loss: 0.0063\n",
            "Epoch 29/100\n",
            "15/15 [==============================] - 0s 15ms/step - loss: 1.4354e-04 - val_loss: 0.0047\n",
            "Epoch 30/100\n",
            "15/15 [==============================] - 0s 15ms/step - loss: 1.4200e-04 - val_loss: 0.0053\n",
            "Epoch 31/100\n",
            "15/15 [==============================] - 0s 15ms/step - loss: 1.3950e-04 - val_loss: 0.0064\n",
            "Epoch 32/100\n",
            "15/15 [==============================] - 0s 15ms/step - loss: 1.4529e-04 - val_loss: 0.0046\n",
            "Epoch 33/100\n",
            "15/15 [==============================] - 0s 15ms/step - loss: 1.7890e-04 - val_loss: 0.0048\n",
            "Epoch 34/100\n",
            "15/15 [==============================] - 0s 15ms/step - loss: 1.4675e-04 - val_loss: 0.0041\n",
            "Epoch 35/100\n",
            "15/15 [==============================] - 0s 15ms/step - loss: 1.4202e-04 - val_loss: 0.0057\n",
            "Epoch 36/100\n",
            "15/15 [==============================] - 0s 15ms/step - loss: 1.3245e-04 - val_loss: 0.0061\n",
            "Epoch 37/100\n",
            "15/15 [==============================] - 0s 16ms/step - loss: 1.4178e-04 - val_loss: 0.0069\n",
            "Epoch 38/100\n",
            "15/15 [==============================] - 0s 15ms/step - loss: 1.5106e-04 - val_loss: 0.0064\n",
            "Epoch 39/100\n",
            "15/15 [==============================] - 0s 15ms/step - loss: 1.4737e-04 - val_loss: 0.0070\n",
            "Epoch 40/100\n",
            "15/15 [==============================] - 0s 15ms/step - loss: 1.3311e-04 - val_loss: 0.0052\n",
            "Epoch 41/100\n",
            "15/15 [==============================] - 0s 16ms/step - loss: 1.2980e-04 - val_loss: 0.0047\n",
            "Epoch 42/100\n",
            "15/15 [==============================] - 0s 16ms/step - loss: 1.2463e-04 - val_loss: 0.0041\n",
            "Epoch 43/100\n",
            "15/15 [==============================] - 0s 15ms/step - loss: 1.2339e-04 - val_loss: 0.0066\n",
            "Epoch 44/100\n",
            "15/15 [==============================] - 0s 14ms/step - loss: 1.2251e-04 - val_loss: 0.0030\n",
            "Epoch 45/100\n",
            "15/15 [==============================] - 0s 16ms/step - loss: 1.3460e-04 - val_loss: 0.0028\n",
            "Epoch 46/100\n",
            "15/15 [==============================] - 0s 15ms/step - loss: 1.3970e-04 - val_loss: 0.0037\n",
            "Epoch 47/100\n",
            "15/15 [==============================] - 0s 15ms/step - loss: 1.1912e-04 - val_loss: 0.0024\n",
            "Epoch 48/100\n",
            "15/15 [==============================] - 0s 15ms/step - loss: 1.2542e-04 - val_loss: 0.0037\n",
            "Epoch 49/100\n",
            "15/15 [==============================] - 0s 16ms/step - loss: 1.1970e-04 - val_loss: 0.0040\n",
            "Epoch 50/100\n",
            "15/15 [==============================] - 0s 16ms/step - loss: 1.1595e-04 - val_loss: 0.0062\n",
            "Epoch 51/100\n",
            "15/15 [==============================] - 0s 15ms/step - loss: 1.1727e-04 - val_loss: 0.0031\n",
            "Epoch 52/100\n",
            "15/15 [==============================] - 0s 15ms/step - loss: 1.2807e-04 - val_loss: 0.0020\n",
            "Epoch 53/100\n",
            "15/15 [==============================] - 0s 15ms/step - loss: 1.3144e-04 - val_loss: 0.0025\n",
            "Epoch 54/100\n",
            "15/15 [==============================] - 0s 17ms/step - loss: 1.1589e-04 - val_loss: 0.0035\n",
            "Epoch 55/100\n",
            "15/15 [==============================] - 0s 16ms/step - loss: 1.2140e-04 - val_loss: 0.0040\n",
            "Epoch 56/100\n",
            "15/15 [==============================] - 0s 16ms/step - loss: 1.1060e-04 - val_loss: 0.0035\n",
            "Epoch 57/100\n",
            "15/15 [==============================] - 0s 17ms/step - loss: 1.0774e-04 - val_loss: 0.0030\n",
            "Epoch 58/100\n",
            "15/15 [==============================] - 0s 16ms/step - loss: 1.1384e-04 - val_loss: 0.0021\n",
            "Epoch 59/100\n",
            "15/15 [==============================] - 0s 17ms/step - loss: 1.2719e-04 - val_loss: 0.0022\n",
            "Epoch 60/100\n",
            "15/15 [==============================] - 0s 15ms/step - loss: 1.1418e-04 - val_loss: 0.0033\n",
            "Epoch 61/100\n",
            "15/15 [==============================] - 0s 15ms/step - loss: 1.0258e-04 - val_loss: 0.0041\n",
            "Epoch 62/100\n",
            "15/15 [==============================] - 0s 15ms/step - loss: 1.0059e-04 - val_loss: 0.0047\n",
            "Epoch 63/100\n",
            "15/15 [==============================] - 0s 15ms/step - loss: 1.2302e-04 - val_loss: 0.0060\n",
            "Epoch 64/100\n",
            "15/15 [==============================] - 0s 14ms/step - loss: 1.4612e-04 - val_loss: 0.0053\n",
            "Epoch 65/100\n",
            "15/15 [==============================] - 0s 15ms/step - loss: 1.0587e-04 - val_loss: 0.0061\n",
            "Epoch 66/100\n",
            "15/15 [==============================] - 0s 16ms/step - loss: 1.3446e-04 - val_loss: 0.0047\n",
            "Epoch 67/100\n",
            "15/15 [==============================] - 0s 15ms/step - loss: 1.0836e-04 - val_loss: 0.0034\n",
            "Epoch 68/100\n",
            "15/15 [==============================] - 0s 15ms/step - loss: 1.0251e-04 - val_loss: 0.0025\n",
            "Epoch 69/100\n",
            "15/15 [==============================] - 0s 15ms/step - loss: 9.4230e-05 - val_loss: 0.0054\n",
            "Epoch 70/100\n",
            "15/15 [==============================] - 0s 15ms/step - loss: 9.5697e-05 - val_loss: 0.0018\n",
            "Epoch 71/100\n",
            "15/15 [==============================] - 0s 15ms/step - loss: 1.0113e-04 - val_loss: 0.0035\n",
            "Epoch 72/100\n",
            "15/15 [==============================] - 0s 15ms/step - loss: 9.1791e-05 - val_loss: 0.0018\n",
            "Epoch 73/100\n",
            "15/15 [==============================] - 0s 16ms/step - loss: 9.4654e-05 - val_loss: 0.0023\n",
            "Epoch 74/100\n",
            "15/15 [==============================] - 0s 15ms/step - loss: 9.1184e-05 - val_loss: 0.0026\n",
            "Epoch 75/100\n",
            "15/15 [==============================] - 0s 15ms/step - loss: 8.6447e-05 - val_loss: 0.0030\n",
            "Epoch 76/100\n",
            "15/15 [==============================] - 0s 16ms/step - loss: 9.0655e-05 - val_loss: 0.0022\n",
            "Epoch 77/100\n",
            "15/15 [==============================] - 0s 15ms/step - loss: 8.9552e-05 - val_loss: 0.0028\n",
            "Epoch 78/100\n",
            "15/15 [==============================] - 0s 15ms/step - loss: 9.0330e-05 - val_loss: 0.0030\n",
            "Epoch 79/100\n",
            "15/15 [==============================] - 0s 15ms/step - loss: 8.4016e-05 - val_loss: 0.0032\n",
            "Epoch 80/100\n",
            "15/15 [==============================] - 0s 15ms/step - loss: 8.3235e-05 - val_loss: 0.0021\n",
            "Epoch 81/100\n",
            "15/15 [==============================] - 0s 15ms/step - loss: 8.2419e-05 - val_loss: 0.0031\n",
            "Epoch 82/100\n",
            "15/15 [==============================] - 0s 16ms/step - loss: 8.3748e-05 - val_loss: 0.0027\n",
            "Epoch 83/100\n",
            "15/15 [==============================] - 0s 15ms/step - loss: 8.9137e-05 - val_loss: 0.0023\n",
            "Epoch 84/100\n",
            "15/15 [==============================] - 0s 16ms/step - loss: 8.6061e-05 - val_loss: 0.0014\n",
            "Epoch 85/100\n",
            "15/15 [==============================] - 0s 15ms/step - loss: 8.9989e-05 - val_loss: 0.0027\n",
            "Epoch 86/100\n",
            "15/15 [==============================] - 0s 15ms/step - loss: 8.3687e-05 - val_loss: 0.0024\n",
            "Epoch 87/100\n",
            "15/15 [==============================] - 0s 15ms/step - loss: 7.9802e-05 - val_loss: 0.0013\n",
            "Epoch 88/100\n",
            "15/15 [==============================] - 0s 16ms/step - loss: 9.5103e-05 - val_loss: 0.0030\n",
            "Epoch 89/100\n",
            "15/15 [==============================] - 0s 15ms/step - loss: 8.5844e-05 - val_loss: 0.0023\n",
            "Epoch 90/100\n",
            "15/15 [==============================] - 0s 16ms/step - loss: 8.1617e-05 - val_loss: 0.0020\n",
            "Epoch 91/100\n",
            "15/15 [==============================] - 0s 16ms/step - loss: 7.5359e-05 - val_loss: 0.0027\n",
            "Epoch 92/100\n",
            "15/15 [==============================] - 0s 15ms/step - loss: 8.0215e-05 - val_loss: 0.0051\n",
            "Epoch 93/100\n",
            "15/15 [==============================] - 0s 15ms/step - loss: 7.8981e-05 - val_loss: 0.0027\n",
            "Epoch 94/100\n",
            "15/15 [==============================] - 0s 15ms/step - loss: 7.7286e-05 - val_loss: 0.0031\n",
            "Epoch 95/100\n",
            "15/15 [==============================] - 0s 15ms/step - loss: 7.2487e-05 - val_loss: 0.0025\n",
            "Epoch 96/100\n",
            "15/15 [==============================] - 0s 16ms/step - loss: 7.4560e-05 - val_loss: 0.0024\n",
            "Epoch 97/100\n",
            "15/15 [==============================] - 0s 15ms/step - loss: 7.2267e-05 - val_loss: 0.0037\n",
            "Epoch 98/100\n",
            "15/15 [==============================] - 0s 16ms/step - loss: 7.2396e-05 - val_loss: 0.0025\n",
            "Epoch 99/100\n",
            "15/15 [==============================] - 0s 15ms/step - loss: 7.1668e-05 - val_loss: 0.0039\n",
            "Epoch 100/100\n",
            "15/15 [==============================] - 0s 15ms/step - loss: 6.9951e-05 - val_loss: 0.0028\n"
          ],
          "name": "stdout"
        },
        {
          "output_type": "execute_result",
          "data": {
            "text/plain": [
              "<tensorflow.python.keras.callbacks.History at 0x7f18e48bbf28>"
            ]
          },
          "metadata": {
            "tags": []
          },
          "execution_count": 90
        }
      ]
    },
    {
      "cell_type": "code",
      "metadata": {
        "id": "Xc6MaLi5J46U",
        "colab_type": "code",
        "colab": {}
      },
      "source": [
        "train_predict=model.predict(X_train)\n",
        "test_predict=model.predict(X_test)\n"
      ],
      "execution_count": 91,
      "outputs": []
    },
    {
      "cell_type": "code",
      "metadata": {
        "id": "2pKaZ04MJ7E5",
        "colab_type": "code",
        "colab": {}
      },
      "source": [
        "train_predict=scaler.inverse_transform(train_predict)\n",
        "test_predict=scaler.inverse_transform(test_predict)"
      ],
      "execution_count": 92,
      "outputs": []
    },
    {
      "cell_type": "code",
      "metadata": {
        "id": "0EoQslHAJ9wN",
        "colab_type": "code",
        "colab": {
          "base_uri": "https://localhost:8080/",
          "height": 34
        },
        "outputId": "6f4c43a7-4a80-4608-df23-decf6a63dd6a"
      },
      "source": [
        "import math\n",
        "from sklearn.metrics import mean_squared_error\n",
        "math.sqrt(mean_squared_error(y_train,train_predict))"
      ],
      "execution_count": 93,
      "outputs": [
        {
          "output_type": "execute_result",
          "data": {
            "text/plain": [
              "40.40601859318396"
            ]
          },
          "metadata": {
            "tags": []
          },
          "execution_count": 93
        }
      ]
    },
    {
      "cell_type": "code",
      "metadata": {
        "id": "84VXtW2WJ_cn",
        "colab_type": "code",
        "colab": {
          "base_uri": "https://localhost:8080/",
          "height": 34
        },
        "outputId": "d89b4e9a-e5cc-48fc-a651-aefdd312f201"
      },
      "source": [
        "math.sqrt(mean_squared_error(ytest,test_predict))"
      ],
      "execution_count": 94,
      "outputs": [
        {
          "output_type": "execute_result",
          "data": {
            "text/plain": [
              "84.61909272355511"
            ]
          },
          "metadata": {
            "tags": []
          },
          "execution_count": 94
        }
      ]
    },
    {
      "cell_type": "code",
      "metadata": {
        "id": "kbZtvmmrKCYI",
        "colab_type": "code",
        "colab": {
          "base_uri": "https://localhost:8080/",
          "height": 265
        },
        "outputId": "7fa2ebe2-96f3-4765-c428-961502955f5c"
      },
      "source": [
        "look_back=100\n",
        "trainPredictPlot = np.empty_like(df1)\n",
        "trainPredictPlot[:, :] = np.nan\n",
        "trainPredictPlot[look_back:len(train_predict)+look_back, :] = train_predict\n",
        "# shift test predictions for plotting\n",
        "testPredictPlot = np.empty_like(df1)\n",
        "testPredictPlot[:, :] = np.nan\n",
        "testPredictPlot[len(train_predict)+(look_back*2)+1:len(df1)-1, :] = test_predict\n",
        "# plot baseline and predictions\n",
        "plt.plot(scaler.inverse_transform(df1))\n",
        "plt.plot(trainPredictPlot)\n",
        "plt.plot(testPredictPlot)\n",
        "plt.show()"
      ],
      "execution_count": 95,
      "outputs": [
        {
          "output_type": "display_data",
          "data": {
            "image/png": "[encoded data removed]",
            "text/plain": [
              "<Figure size 432x288 with 1 Axes>"
            ]
          },
          "metadata": {
            "tags": [],
            "needs_background": "light"
          }
        }
      ]
    },
    {
      "cell_type": "code",
      "metadata": {
        "id": "jHUC649MKRkq",
        "colab_type": "code",
        "colab": {
          "base_uri": "https://localhost:8080/",
          "height": 34
        },
        "outputId": "7222eb25-b953-441f-a8a2-6ff16c5e86ac"
      },
      "source": [
        "len(test_data)"
      ],
      "execution_count": 96,
      "outputs": [
        {
          "output_type": "execute_result",
          "data": {
            "text/plain": [
              "252"
            ]
          },
          "metadata": {
            "tags": []
          },
          "execution_count": 96
        }
      ]
    },
    {
      "cell_type": "code",
      "metadata": {
        "id": "tXaF-IroKZAv",
        "colab_type": "code",
        "colab": {
          "base_uri": "https://localhost:8080/",
          "height": 34
        },
        "outputId": "c76b577a-023d-4381-cdc3-8fe98d6c1257"
      },
      "source": [
        "x_input=test_data[152:].reshape(1,-1)\n",
        "x_input.shape"
      ],
      "execution_count": 97,
      "outputs": [
        {
          "output_type": "execute_result",
          "data": {
            "text/plain": [
              "(1, 100)"
            ]
          },
          "metadata": {
            "tags": []
          },
          "execution_count": 97
        }
      ]
    },
    {
      "cell_type": "code",
      "metadata": {
        "id": "LKekZz35Kku2",
        "colab_type": "code",
        "colab": {
          "base_uri": "https://localhost:8080/",
          "height": 1000
        },
        "outputId": "3e4554bb-564c-4cc4-b771-7b1579023723"
      },
      "source": [
        "temp_input=list(x_input)\n",
        "temp_input=temp_input[0].tolist()\n",
        "temp_input"
      ],
      "execution_count": 98,
      "outputs": [
        {
          "output_type": "execute_result",
          "data": {
            "text/plain": [
              "[0.46422333689000306,\n",
              " 0.47110090197025656,\n",
              " 0.47806802758108835,\n",
              " 0.4923832187083882,\n",
              " 0.5033156197188771,\n",
              " 0.4952507281236953,\n",
              " 0.486827389305748,\n",
              " 0.4910614830307749,\n",
              " 0.4869617984684329,\n",
              " 0.5032035665054282,\n",
              " 0.49912637462595666,\n",
              " 0.5127694515730146,\n",
              " 0.507437660230455,\n",
              " 0.5120077768621942,\n",
              " 0.5071688419050852,\n",
              " 0.5102603210136557,\n",
              " 0.5105739879711321,\n",
              " 0.5098795178416542,\n",
              " 0.5186388795663138,\n",
              " 0.5219768210510182,\n",
              " 0.5259644523999112,\n",
              " 0.5196917969185572,\n",
              " 0.5402572192111578,\n",
              " 0.5446480780481056,\n",
              " 0.5682378432347515,\n",
              " 0.5880640151325849,\n",
              " 0.55011427855335,\n",
              " 0.5566109720947846,\n",
              " 0.5659975993675797,\n",
              " 0.5863614079161528,\n",
              " 0.5852637102986201,\n",
              " 0.5855773772560965,\n",
              " 0.5810744652056997,\n",
              " 0.6015726829169579,\n",
              " 0.6187329591435116,\n",
              " 0.6042385785882376,\n",
              " 0.6149469415386459,\n",
              " 0.5898338269303594,\n",
              " 0.6080918007744457,\n",
              " 0.6148573126412502,\n",
              " 0.6133115389035563,\n",
              " 0.6133115389035563,\n",
              " 0.6351315606592449,\n",
              " 0.6325328695693075,\n",
              " 0.6519781699283222,\n",
              " 0.6556522026865562,\n",
              " 0.6571531277921436,\n",
              " 0.6531879207593038,\n",
              " 0.6673462784078654,\n",
              " 0.6733276912477963,\n",
              " 0.6625521237160457,\n",
              " 0.6608047362343243,\n",
              " 0.6789955054970682,\n",
              " 0.6668309977063617,\n",
              " 0.6692728553175609,\n",
              " 0.629598155572658,\n",
              " 0.6275371011334604,\n",
              " 0.6472064395525556,\n",
              " 0.6332497640148387,\n",
              " 0.6492674939917532,\n",
              " 0.6595726294541068,\n",
              " 0.7498096496891122,\n",
              " 0.7738026423638129,\n",
              " 0.7803217602213007,\n",
              " 0.7838837397660857,\n",
              " 0.8182938527497715,\n",
              " 0.793292791354934,\n",
              " 0.8077647475941546,\n",
              " 0.7777230691313635,\n",
              " 0.8102962341027494,\n",
              " 0.8282181850401235,\n",
              " 0.827299676850565,\n",
              " 0.8246113568632322,\n",
              " 0.8331691048438642,\n",
              " 0.8344684162054242,\n",
              " 0.8574757644760412,\n",
              " 0.9120929208963794,\n",
              " 0.9254223308859609,\n",
              " 0.9161701127758507,\n",
              " 0.9313813877766558,\n",
              " 0.9178279397269936,\n",
              " 0.9160133476639299,\n",
              " 0.9539405915602942,\n",
              " 1.0,\n",
              " 0.975088499135741,\n",
              " 0.8808190672865533,\n",
              " 0.8815359617320843,\n",
              " 0.8085936268863175,\n",
              " 0.848918016495409,\n",
              " 0.8145974640423016,\n",
              " 0.8012456297366669,\n",
              " 0.8313545127808005,\n",
              " 0.8329674910998369,\n",
              " 0.802410531935542,\n",
              " 0.7863703776425741,\n",
              " 0.7550069635021696,\n",
              " 0.7840405732448239,\n",
              " 0.7995430225202348,\n",
              " 0.7575160940615284,\n",
              " 0.7673731534037207]"
            ]
          },
          "metadata": {
            "tags": []
          },
          "execution_count": 98
        }
      ]
    },
    {
      "cell_type": "code",
      "metadata": {
        "id": "xJdCmDc2KnyX",
        "colab_type": "code",
        "colab": {
          "base_uri": "https://localhost:8080/",
          "height": 185
        },
        "outputId": "f36f5e6a-3def-438b-98db-894f60c0d9bd"
      },
      "source": [
        "from numpy import array\n",
        "lst_output=[]\n",
        "n_steps=100\n",
        "i=0\n",
        "while(i<11):\n",
        "    \n",
        "    if(len(temp_input)>100):\n",
        "        #print(temp_input)\n",
        "        x_input=np.array(temp_input[1:])\n",
        "        #print(\"{} day input {}\".format(i,x_input))\n",
        "        x_input=x_input.reshape(1,-1)\n",
        "        x_input = x_input.reshape((1, n_steps, 1))\n",
        "        #print(x_input)\n",
        "        yhat = model.predict(x_input, verbose=0)\n",
        "        print(\"{} day Prediction {}\".format(i,yhat))\n",
        "        temp_input.extend(yhat[0].tolist())\n",
        "        temp_input=temp_input[1:]\n",
        "        #print(temp_input)\n",
        "        lst_output.extend(yhat.tolist())\n",
        "        i=i+1\n",
        "    else:\n",
        "        x_input = x_input.reshape((1, n_steps,1))\n",
        "        yhat = model.predict(x_input, verbose=0)\n",
        "        #print(yhat[0])\n",
        "        temp_input.extend(yhat[0].tolist())\n",
        "        #print(len(temp_input))\n",
        "        lst_output.extend(yhat.tolist())\n",
        "        i=i+1\n",
        "    "
      ],
      "execution_count": 99,
      "outputs": [
        {
          "output_type": "stream",
          "text": [
            "1 day Prediction [[0.63752156]]\n",
            "2 day Prediction [[0.58846086]]\n",
            "3 day Prediction [[0.531679]]\n",
            "4 day Prediction [[0.4721555]]\n",
            "5 day Prediction [[0.4120253]]\n",
            "6 day Prediction [[0.35212106]]\n",
            "7 day Prediction [[0.29292917]]\n",
            "8 day Prediction [[0.23515932]]\n",
            "9 day Prediction [[0.17995913]]\n",
            "10 day Prediction [[0.1287609]]\n"
          ],
          "name": "stdout"
        }
      ]
    },
    {
      "cell_type": "code",
      "metadata": {
        "id": "OlZGQS53LdLl",
        "colab_type": "code",
        "colab": {
          "base_uri": "https://localhost:8080/",
          "height": 70
        },
        "outputId": "3088d2fe-9d1e-40be-f29f-7598fd0d461f"
      },
      "source": [
        "print(lst_output)\n",
        "print(len(lst_output))"
      ],
      "execution_count": 100,
      "outputs": [
        {
          "output_type": "stream",
          "text": [
            "[[0.6693484783172607], [0.6375215649604797], [0.5884608626365662], [0.5316789746284485], [0.47215551137924194], [0.4120253026485443], [0.3521210551261902], [0.29292917251586914], [0.23515932261943817], [0.17995913326740265], [0.1287609040737152]]\n",
            "11\n"
          ],
          "name": "stdout"
        }
      ]
    },
    {
      "cell_type": "code",
      "metadata": {
        "id": "28QV4H-Z_JUG",
        "colab_type": "code",
        "colab": {
          "base_uri": "https://localhost:8080/",
          "height": 54
        },
        "outputId": "af0bfc89-8e1b-4c3c-c07f-f55588acba51"
      },
      "source": [
        "import itertools\n",
        "b = lst_output\n",
        "c =list(itertools.chain.from_iterable(b))\n",
        "print(c)\n"
      ],
      "execution_count": 101,
      "outputs": [
        {
          "output_type": "stream",
          "text": [
            "[0.6693484783172607, 0.6375215649604797, 0.5884608626365662, 0.5316789746284485, 0.47215551137924194, 0.4120253026485443, 0.3521210551261902, 0.29292917251586914, 0.23515932261943817, 0.17995913326740265, 0.1287609040737152]\n"
          ],
          "name": "stdout"
        }
      ]
    },
    {
      "cell_type": "code",
      "metadata": {
        "id": "EDgnqnDIBFme",
        "colab_type": "code",
        "colab": {
          "base_uri": "https://localhost:8080/",
          "height": 202
        },
        "outputId": "4f42f1e4-a93a-451a-be72-c6ca2c579e59"
      },
      "source": [
        "def Predicted_results():\n",
        "  e = scaler.inverse_transform(b)\n",
        "  return e\n",
        "final = Predicted_results()\n",
        "final"
      ],
      "execution_count": 106,
      "outputs": [
        {
          "output_type": "execute_result",
          "data": {
            "text/plain": [
              "array([[97.28093823],\n",
              "       [93.72921404],\n",
              "       [88.25428528],\n",
              "       [81.91771085],\n",
              "       [75.27519035],\n",
              "       [68.56496009],\n",
              "       [61.87994597],\n",
              "       [55.27442821],\n",
              "       [48.82760219],\n",
              "       [42.66753741],\n",
              "       [36.95407135]])"
            ]
          },
          "metadata": {
            "tags": []
          },
          "execution_count": 106
        }
      ]
    },
    {
      "cell_type": "code",
      "metadata": {
        "id": "RjSXjBxJJmbV",
        "colab_type": "code",
        "colab": {
          "base_uri": "https://localhost:8080/",
          "height": 34
        },
        "outputId": "c63e7c95-12a0-44ff-b6c4-41e7eb65e126"
      },
      "source": [
        "!mkdir -p saved_model\n",
        "model.save('saved_model/my_model') "
      ],
      "execution_count": 107,
      "outputs": [
        {
          "output_type": "stream",
          "text": [
            "INFO:tensorflow:Assets written to: saved_model/my_model/assets\n"
          ],
          "name": "stdout"
        }
      ]
    },
    {
      "cell_type": "code",
      "metadata": {
        "id": "szmFYfbrKiiR",
        "colab_type": "code",
        "colab": {
          "base_uri": "https://localhost:8080/",
          "height": 50
        },
        "outputId": "6c12c785-a8a5-4f50-cb00-fb65a6fefca4"
      },
      "source": [
        "# my_model directory\n",
        "!ls saved_model\n",
        "\n",
        "# Contains an assets folder, saved_model.pb, and variables folder.\n",
        "!ls saved_model/my_model"
      ],
      "execution_count": 108,
      "outputs": [
        {
          "output_type": "stream",
          "text": [
            "my_model\n",
            "assets\tsaved_model.pb\tvariables\n"
          ],
          "name": "stdout"
        }
      ]
    },
    {
      "cell_type": "code",
      "metadata": {
        "id": "nZXD8wbIKtb-",
        "colab_type": "code",
        "colab": {}
      },
      "source": [
        "model.save('my_model.h5') "
      ],
      "execution_count": 109,
      "outputs": []
    },
    {
      "cell_type": "code",
      "metadata": {
        "id": "06mFkENmLXw9",
        "colab_type": "code",
        "colab": {}
      },
      "source": [
        ""
      ],
      "execution_count": null,
      "outputs": []
    }
  ]
}