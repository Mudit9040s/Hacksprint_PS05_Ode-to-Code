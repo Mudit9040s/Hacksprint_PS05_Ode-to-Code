{
  "nbformat": 4,
  "nbformat_minor": 0,
  "metadata": {
    "colab": {
      "name": "Prediction_10_Days_Ahead.ipynb",
      "provenance": []
    },
    "kernelspec": {
      "name": "python3",
      "display_name": "Python 3"
    },
    "accelerator": "GPU"
  },
  "cells": [
    {
      "cell_type": "code",
      "metadata": {
        "id": "iG_JhbP7BMQt",
        "colab_type": "code",
        "colab": {
          "base_uri": "https://localhost:8080/",
          "height": 70
        },
        "outputId": "f8e2ffc3-6dad-48b6-d411-26d6806ff3c5"
      },
      "source": [
        "import pandas as pd\n",
        "from pandas_datareader import data, wb\n",
        "import datetime"
      ],
      "execution_count": 1,
      "outputs": [
        {
          "output_type": "stream",
          "text": [
            "/usr/local/lib/python3.6/dist-packages/pandas_datareader/compat/__init__.py:7: FutureWarning: pandas.util.testing is deprecated. Use the functions in the public API at pandas.testing instead.\n",
            "  from pandas.util.testing import assert_frame_equal\n"
          ],
          "name": "stderr"
        }
      ]
    },
    {
      "cell_type": "code",
      "metadata": {
        "id": "tuTZT465DRl9",
        "colab_type": "code",
        "colab": {
          "base_uri": "https://localhost:8080/",
          "height": 431
        },
        "outputId": "c7758815-30a7-420c-a2db-ba0abd9fd91b"
      },
      "source": [
        "start = pd.to_datetime('2015-09-24')\n",
        "end = pd.to_datetime('today')\n",
        "data_df = data.DataReader('TSLA','yahoo',start,end)\n",
        "data_df"
      ],
      "execution_count": 3,
      "outputs": [
        {
          "output_type": "execute_result",
          "data": {
            "text/html": [
              "<div>\n",
              "<style scoped>\n",
              "    .dataframe tbody tr th:only-of-type {\n",
              "        vertical-align: middle;\n",
              "    }\n",
              "\n",
              "    .dataframe tbody tr th {\n",
              "        vertical-align: top;\n",
              "    }\n",
              "\n",
              "    .dataframe thead th {\n",
              "        text-align: right;\n",
              "    }\n",
              "</style>\n",
              "<table border=\"1\" class=\"dataframe\">\n",
              "  <thead>\n",
              "    <tr style=\"text-align: right;\">\n",
              "      <th></th>\n",
              "      <th>High</th>\n",
              "      <th>Low</th>\n",
              "      <th>Open</th>\n",
              "      <th>Close</th>\n",
              "      <th>Volume</th>\n",
              "      <th>Adj Close</th>\n",
              "    </tr>\n",
              "    <tr>\n",
              "      <th>Date</th>\n",
              "      <th></th>\n",
              "      <th></th>\n",
              "      <th></th>\n",
              "      <th></th>\n",
              "      <th></th>\n",
              "      <th></th>\n",
              "    </tr>\n",
              "  </thead>\n",
              "  <tbody>\n",
              "    <tr>\n",
              "      <th>2015-09-24</th>\n",
              "      <td>52.689999</td>\n",
              "      <td>51.242001</td>\n",
              "      <td>51.905998</td>\n",
              "      <td>52.624001</td>\n",
              "      <td>17241000.0</td>\n",
              "      <td>52.624001</td>\n",
              "    </tr>\n",
              "    <tr>\n",
              "      <th>2015-09-25</th>\n",
              "      <td>53.382000</td>\n",
              "      <td>51.230000</td>\n",
              "      <td>53.321999</td>\n",
              "      <td>51.382000</td>\n",
              "      <td>18867000.0</td>\n",
              "      <td>51.382000</td>\n",
              "    </tr>\n",
              "    <tr>\n",
              "      <th>2015-09-28</th>\n",
              "      <td>51.958000</td>\n",
              "      <td>49.321999</td>\n",
              "      <td>51.470001</td>\n",
              "      <td>49.686001</td>\n",
              "      <td>24505500.0</td>\n",
              "      <td>49.686001</td>\n",
              "    </tr>\n",
              "    <tr>\n",
              "      <th>2015-09-29</th>\n",
              "      <td>50.945999</td>\n",
              "      <td>49.091999</td>\n",
              "      <td>50.091999</td>\n",
              "      <td>49.330002</td>\n",
              "      <td>18516000.0</td>\n",
              "      <td>49.330002</td>\n",
              "    </tr>\n",
              "    <tr>\n",
              "      <th>2015-09-30</th>\n",
              "      <td>50.480000</td>\n",
              "      <td>48.467999</td>\n",
              "      <td>50.400002</td>\n",
              "      <td>49.680000</td>\n",
              "      <td>24648000.0</td>\n",
              "      <td>49.680000</td>\n",
              "    </tr>\n",
              "    <tr>\n",
              "      <th>...</th>\n",
              "      <td>...</td>\n",
              "      <td>...</td>\n",
              "      <td>...</td>\n",
              "      <td>...</td>\n",
              "      <td>...</td>\n",
              "      <td>...</td>\n",
              "    </tr>\n",
              "    <tr>\n",
              "      <th>2020-09-18</th>\n",
              "      <td>451.000000</td>\n",
              "      <td>428.799988</td>\n",
              "      <td>447.940002</td>\n",
              "      <td>442.149994</td>\n",
              "      <td>86406800.0</td>\n",
              "      <td>442.149994</td>\n",
              "    </tr>\n",
              "    <tr>\n",
              "      <th>2020-09-21</th>\n",
              "      <td>455.679993</td>\n",
              "      <td>407.070007</td>\n",
              "      <td>453.130005</td>\n",
              "      <td>449.390015</td>\n",
              "      <td>109476800.0</td>\n",
              "      <td>449.390015</td>\n",
              "    </tr>\n",
              "    <tr>\n",
              "      <th>2020-09-22</th>\n",
              "      <td>437.760010</td>\n",
              "      <td>417.600006</td>\n",
              "      <td>429.600006</td>\n",
              "      <td>424.230011</td>\n",
              "      <td>79580800.0</td>\n",
              "      <td>424.230011</td>\n",
              "    </tr>\n",
              "    <tr>\n",
              "      <th>2020-09-23</th>\n",
              "      <td>412.149994</td>\n",
              "      <td>375.880005</td>\n",
              "      <td>405.160004</td>\n",
              "      <td>380.359985</td>\n",
              "      <td>93873900.0</td>\n",
              "      <td>380.359985</td>\n",
              "    </tr>\n",
              "    <tr>\n",
              "      <th>2020-09-24</th>\n",
              "      <td>398.880005</td>\n",
              "      <td>351.299988</td>\n",
              "      <td>363.799988</td>\n",
              "      <td>392.780090</td>\n",
              "      <td>64231853.0</td>\n",
              "      <td>392.780090</td>\n",
              "    </tr>\n",
              "  </tbody>\n",
              "</table>\n",
              "<p>1260 rows × 6 columns</p>\n",
              "</div>"
            ],
            "text/plain": [
              "                  High         Low  ...       Volume   Adj Close\n",
              "Date                                ...                         \n",
              "2015-09-24   52.689999   51.242001  ...   17241000.0   52.624001\n",
              "2015-09-25   53.382000   51.230000  ...   18867000.0   51.382000\n",
              "2015-09-28   51.958000   49.321999  ...   24505500.0   49.686001\n",
              "2015-09-29   50.945999   49.091999  ...   18516000.0   49.330002\n",
              "2015-09-30   50.480000   48.467999  ...   24648000.0   49.680000\n",
              "...                ...         ...  ...          ...         ...\n",
              "2020-09-18  451.000000  428.799988  ...   86406800.0  442.149994\n",
              "2020-09-21  455.679993  407.070007  ...  109476800.0  449.390015\n",
              "2020-09-22  437.760010  417.600006  ...   79580800.0  424.230011\n",
              "2020-09-23  412.149994  375.880005  ...   93873900.0  380.359985\n",
              "2020-09-24  398.880005  351.299988  ...   64231853.0  392.780090\n",
              "\n",
              "[1260 rows x 6 columns]"
            ]
          },
          "metadata": {
            "tags": []
          },
          "execution_count": 3
        }
      ]
    },
    {
      "cell_type": "code",
      "metadata": {
        "id": "iy4ujlgLDbCm",
        "colab_type": "code",
        "colab": {
          "base_uri": "https://localhost:8080/",
          "height": 218
        },
        "outputId": "481d0725-ef0c-4452-f4d0-09da255a68db"
      },
      "source": [
        "df1=data_df.reset_index()['Close']\n",
        "df1"
      ],
      "execution_count": 5,
      "outputs": [
        {
          "output_type": "execute_result",
          "data": {
            "text/plain": [
              "0        52.624001\n",
              "1        51.382000\n",
              "2        49.686001\n",
              "3        49.330002\n",
              "4        49.680000\n",
              "           ...    \n",
              "1255    442.149994\n",
              "1256    449.390015\n",
              "1257    424.230011\n",
              "1258    380.359985\n",
              "1259    392.780090\n",
              "Name: Close, Length: 1260, dtype: float64"
            ]
          },
          "metadata": {
            "tags": []
          },
          "execution_count": 5
        }
      ]
    },
    {
      "cell_type": "code",
      "metadata": {
        "id": "xAL8pwNuFXJq",
        "colab_type": "code",
        "colab": {
          "base_uri": "https://localhost:8080/",
          "height": 282
        },
        "outputId": "1fda2d0a-56ca-46a1-d6c5-426a24c88794"
      },
      "source": [
        "import matplotlib.pyplot as plt\n",
        "plt.plot(df1)"
      ],
      "execution_count": 6,
      "outputs": [
        {
          "output_type": "execute_result",
          "data": {
            "text/plain": [
              "[<matplotlib.lines.Line2D at 0x7f4e9df7db70>]"
            ]
          },
          "metadata": {
            "tags": []
          },
          "execution_count": 6
        },
        {
          "output_type": "display_data",
          "data": {
            "image/png": "[encoded data removed]",
            "text/plain": [
              "<Figure size 432x288 with 1 Axes>"
            ]
          },
          "metadata": {
            "tags": [],
            "needs_background": "light"
          }
        }
      ]
    },
    {
      "cell_type": "code",
      "metadata": {
        "id": "JrYvKjccHUK_",
        "colab_type": "code",
        "colab": {
          "base_uri": "https://localhost:8080/",
          "height": 134
        },
        "outputId": "edea676e-e771-427d-d1b8-331eefa1e89f"
      },
      "source": [
        "from sklearn.preprocessing import MinMaxScaler\n",
        "scaler=MinMaxScaler(feature_range=(0,1))\n",
        "import numpy as np\n",
        "df1=scaler.fit_transform(np.array(df1).reshape(-1,1))\n",
        "df1"
      ],
      "execution_count": 10,
      "outputs": [
        {
          "output_type": "execute_result",
          "data": {
            "text/plain": [
              "array([[0.0508746 ],\n",
              "       [0.04822972],\n",
              "       [0.04461803],\n",
              "       ...,\n",
              "       [0.84222273],\n",
              "       [0.74879996],\n",
              "       [0.77524902]])"
            ]
          },
          "metadata": {
            "tags": []
          },
          "execution_count": 10
        }
      ]
    },
    {
      "cell_type": "code",
      "metadata": {
        "id": "PyMEiQs_HbAU",
        "colab_type": "code",
        "colab": {}
      },
      "source": [
        "training_size=int(len(df1)*0.80)\n",
        "test_size=len(df1)-training_size\n",
        "train_data,test_data=df1[0:training_size,:],df1[training_size:len(df1),:1]"
      ],
      "execution_count": 11,
      "outputs": []
    },
    {
      "cell_type": "code",
      "metadata": {
        "id": "M8dFAFK5Il1e",
        "colab_type": "code",
        "colab": {
          "base_uri": "https://localhost:8080/",
          "height": 34
        },
        "outputId": "333c402b-5971-497e-cb5a-eca6a695c327"
      },
      "source": [
        "training_size,test_size"
      ],
      "execution_count": 12,
      "outputs": [
        {
          "output_type": "execute_result",
          "data": {
            "text/plain": [
              "(1008, 252)"
            ]
          },
          "metadata": {
            "tags": []
          },
          "execution_count": 12
        }
      ]
    },
    {
      "cell_type": "code",
      "metadata": {
        "id": "NkC9OAYIIpB7",
        "colab_type": "code",
        "colab": {}
      },
      "source": [
        "def create_dataset(dataset, time_step=1):\n",
        "\tdataX, dataY = [], []\n",
        "\tfor i in range(len(dataset)-time_step-1):\n",
        "\t\ta = dataset[i:(i+time_step), 0]   \n",
        "\t\tdataX.append(a)\n",
        "\t\tdataY.append(dataset[i + time_step, 0])\n",
        "\treturn np.array(dataX), np.array(dataY)"
      ],
      "execution_count": 13,
      "outputs": []
    },
    {
      "cell_type": "code",
      "metadata": {
        "id": "Qb9-IyCUI8Iz",
        "colab_type": "code",
        "colab": {}
      },
      "source": [
        "time_step = 100\n",
        "X_train, y_train = create_dataset(train_data, time_step)\n",
        "X_test, ytest = create_dataset(test_data, time_step)"
      ],
      "execution_count": 14,
      "outputs": []
    },
    {
      "cell_type": "code",
      "metadata": {
        "id": "QguzhmiZI-do",
        "colab_type": "code",
        "colab": {
          "base_uri": "https://localhost:8080/",
          "height": 67
        },
        "outputId": "19dca20d-0fa7-495a-9ae8-abc3403f9b92"
      },
      "source": [
        "print(X_train.shape), print(y_train.shape)"
      ],
      "execution_count": 15,
      "outputs": [
        {
          "output_type": "stream",
          "text": [
            "(907, 100)\n",
            "(907,)\n"
          ],
          "name": "stdout"
        },
        {
          "output_type": "execute_result",
          "data": {
            "text/plain": [
              "(None, None)"
            ]
          },
          "metadata": {
            "tags": []
          },
          "execution_count": 15
        }
      ]
    },
    {
      "cell_type": "code",
      "metadata": {
        "id": "a-3l-Xu7JBNb",
        "colab_type": "code",
        "colab": {
          "base_uri": "https://localhost:8080/",
          "height": 67
        },
        "outputId": "3d0e4658-f514-4c79-cdd4-c67b73e064e3"
      },
      "source": [
        "print(X_test.shape), print(ytest.shape)"
      ],
      "execution_count": 16,
      "outputs": [
        {
          "output_type": "stream",
          "text": [
            "(151, 100)\n",
            "(151,)\n"
          ],
          "name": "stdout"
        },
        {
          "output_type": "execute_result",
          "data": {
            "text/plain": [
              "(None, None)"
            ]
          },
          "metadata": {
            "tags": []
          },
          "execution_count": 16
        }
      ]
    },
    {
      "cell_type": "code",
      "metadata": {
        "id": "9oHYQUKGJOTC",
        "colab_type": "code",
        "colab": {}
      },
      "source": [
        "X_train =X_train.reshape(X_train.shape[0],X_train.shape[1] , 1)\n",
        "X_test = X_test.reshape(X_test.shape[0],X_test.shape[1] , 1)"
      ],
      "execution_count": 17,
      "outputs": []
    },
    {
      "cell_type": "code",
      "metadata": {
        "id": "a0BuTUgNJYHR",
        "colab_type": "code",
        "colab": {}
      },
      "source": [
        "from tensorflow.keras.models import Sequential\n",
        "from tensorflow.keras.layers import Dense\n",
        "from tensorflow.keras.layers import LSTM"
      ],
      "execution_count": 18,
      "outputs": []
    },
    {
      "cell_type": "code",
      "metadata": {
        "id": "-KyCHJlHJZuQ",
        "colab_type": "code",
        "colab": {}
      },
      "source": [
        "model=Sequential()\n",
        "model.add(LSTM(50,return_sequences=True,input_shape=(100,1)))\n",
        "model.add(LSTM(50,return_sequences=True))\n",
        "model.add(LSTM(50))\n",
        "model.add(Dense(1))\n",
        "model.compile(loss='mean_squared_error',optimizer='adam')"
      ],
      "execution_count": 19,
      "outputs": []
    },
    {
      "cell_type": "code",
      "metadata": {
        "id": "FOqM6UfjJgSk",
        "colab_type": "code",
        "colab": {
          "base_uri": "https://localhost:8080/",
          "height": 286
        },
        "outputId": "fcfd29f8-7ba1-4b6d-9f4f-d6c98b973f99"
      },
      "source": [
        "model.summary()"
      ],
      "execution_count": 20,
      "outputs": [
        {
          "output_type": "stream",
          "text": [
            "Model: \"sequential\"\n",
            "_________________________________________________________________\n",
            "Layer (type)                 Output Shape              Param #   \n",
            "=================================================================\n",
            "lstm (LSTM)                  (None, 100, 50)           10400     \n",
            "_________________________________________________________________\n",
            "lstm_1 (LSTM)                (None, 100, 50)           20200     \n",
            "_________________________________________________________________\n",
            "lstm_2 (LSTM)                (None, 50)                20200     \n",
            "_________________________________________________________________\n",
            "dense (Dense)                (None, 1)                 51        \n",
            "=================================================================\n",
            "Total params: 50,851\n",
            "Trainable params: 50,851\n",
            "Non-trainable params: 0\n",
            "_________________________________________________________________\n"
          ],
          "name": "stdout"
        }
      ]
    },
    {
      "cell_type": "code",
      "metadata": {
        "id": "X4-mhqZPJjiY",
        "colab_type": "code",
        "colab": {
          "base_uri": "https://localhost:8080/",
          "height": 1000
        },
        "outputId": "ba470f38-5e5a-49af-d84d-98129290d0f1"
      },
      "source": [
        "model.fit(X_train,y_train,validation_data=(X_test,ytest),epochs=100,batch_size=64,verbose=1)"
      ],
      "execution_count": 21,
      "outputs": [
        {
          "output_type": "stream",
          "text": [
            "Epoch 1/100\n",
            "15/15 [==============================] - 1s 79ms/step - loss: 6.4055e-04 - val_loss: 0.0809\n",
            "Epoch 2/100\n",
            "15/15 [==============================] - 0s 16ms/step - loss: 2.3519e-04 - val_loss: 0.0469\n",
            "Epoch 3/100\n",
            "15/15 [==============================] - 0s 15ms/step - loss: 1.3880e-04 - val_loss: 0.0200\n",
            "Epoch 4/100\n",
            "15/15 [==============================] - 0s 15ms/step - loss: 9.2863e-05 - val_loss: 0.0204\n",
            "Epoch 5/100\n",
            "15/15 [==============================] - 0s 15ms/step - loss: 8.5141e-05 - val_loss: 0.0199\n",
            "Epoch 6/100\n",
            "15/15 [==============================] - 0s 15ms/step - loss: 8.3710e-05 - val_loss: 0.0190\n",
            "Epoch 7/100\n",
            "15/15 [==============================] - 0s 15ms/step - loss: 7.9874e-05 - val_loss: 0.0157\n",
            "Epoch 8/100\n",
            "15/15 [==============================] - 0s 15ms/step - loss: 8.7660e-05 - val_loss: 0.0184\n",
            "Epoch 9/100\n",
            "15/15 [==============================] - 0s 17ms/step - loss: 8.3429e-05 - val_loss: 0.0176\n",
            "Epoch 10/100\n",
            "15/15 [==============================] - 0s 15ms/step - loss: 7.5828e-05 - val_loss: 0.0163\n",
            "Epoch 11/100\n",
            "15/15 [==============================] - 0s 15ms/step - loss: 7.4716e-05 - val_loss: 0.0145\n",
            "Epoch 12/100\n",
            "15/15 [==============================] - 0s 15ms/step - loss: 7.4757e-05 - val_loss: 0.0150\n",
            "Epoch 13/100\n",
            "15/15 [==============================] - 0s 16ms/step - loss: 7.3861e-05 - val_loss: 0.0140\n",
            "Epoch 14/100\n",
            "15/15 [==============================] - 0s 15ms/step - loss: 6.6961e-05 - val_loss: 0.0137\n",
            "Epoch 15/100\n",
            "15/15 [==============================] - 0s 15ms/step - loss: 7.3815e-05 - val_loss: 0.0112\n",
            "Epoch 16/100\n",
            "15/15 [==============================] - 0s 15ms/step - loss: 7.4944e-05 - val_loss: 0.0116\n",
            "Epoch 17/100\n",
            "15/15 [==============================] - 0s 15ms/step - loss: 6.4803e-05 - val_loss: 0.0090\n",
            "Epoch 18/100\n",
            "15/15 [==============================] - 0s 15ms/step - loss: 6.9897e-05 - val_loss: 0.0115\n",
            "Epoch 19/100\n",
            "15/15 [==============================] - 0s 15ms/step - loss: 6.3171e-05 - val_loss: 0.0113\n",
            "Epoch 20/100\n",
            "15/15 [==============================] - 0s 15ms/step - loss: 5.9968e-05 - val_loss: 0.0122\n",
            "Epoch 21/100\n",
            "15/15 [==============================] - 0s 15ms/step - loss: 6.0434e-05 - val_loss: 0.0101\n",
            "Epoch 22/100\n",
            "15/15 [==============================] - 0s 15ms/step - loss: 7.5702e-05 - val_loss: 0.0145\n",
            "Epoch 23/100\n",
            "15/15 [==============================] - 0s 16ms/step - loss: 6.1240e-05 - val_loss: 0.0100\n",
            "Epoch 24/100\n",
            "15/15 [==============================] - 0s 15ms/step - loss: 5.9273e-05 - val_loss: 0.0125\n",
            "Epoch 25/100\n",
            "15/15 [==============================] - 0s 15ms/step - loss: 5.5352e-05 - val_loss: 0.0105\n",
            "Epoch 26/100\n",
            "15/15 [==============================] - 0s 16ms/step - loss: 5.8772e-05 - val_loss: 0.0100\n",
            "Epoch 27/100\n",
            "15/15 [==============================] - 0s 15ms/step - loss: 5.3771e-05 - val_loss: 0.0119\n",
            "Epoch 28/100\n",
            "15/15 [==============================] - 0s 15ms/step - loss: 5.2202e-05 - val_loss: 0.0100\n",
            "Epoch 29/100\n",
            "15/15 [==============================] - 0s 15ms/step - loss: 6.3701e-05 - val_loss: 0.0112\n",
            "Epoch 30/100\n",
            "15/15 [==============================] - 0s 15ms/step - loss: 4.9672e-05 - val_loss: 0.0087\n",
            "Epoch 31/100\n",
            "15/15 [==============================] - 0s 15ms/step - loss: 5.0119e-05 - val_loss: 0.0072\n",
            "Epoch 32/100\n",
            "15/15 [==============================] - 0s 15ms/step - loss: 5.5902e-05 - val_loss: 0.0096\n",
            "Epoch 33/100\n",
            "15/15 [==============================] - 0s 15ms/step - loss: 4.6091e-05 - val_loss: 0.0091\n",
            "Epoch 34/100\n",
            "15/15 [==============================] - 0s 16ms/step - loss: 4.9165e-05 - val_loss: 0.0114\n",
            "Epoch 35/100\n",
            "15/15 [==============================] - 0s 15ms/step - loss: 4.5257e-05 - val_loss: 0.0084\n",
            "Epoch 36/100\n",
            "15/15 [==============================] - 0s 15ms/step - loss: 4.2751e-05 - val_loss: 0.0079\n",
            "Epoch 37/100\n",
            "15/15 [==============================] - 0s 15ms/step - loss: 4.3637e-05 - val_loss: 0.0081\n",
            "Epoch 38/100\n",
            "15/15 [==============================] - 0s 15ms/step - loss: 4.3102e-05 - val_loss: 0.0081\n",
            "Epoch 39/100\n",
            "15/15 [==============================] - 0s 14ms/step - loss: 4.3574e-05 - val_loss: 0.0090\n",
            "Epoch 40/100\n",
            "15/15 [==============================] - 0s 15ms/step - loss: 4.0113e-05 - val_loss: 0.0070\n",
            "Epoch 41/100\n",
            "15/15 [==============================] - 0s 16ms/step - loss: 4.0524e-05 - val_loss: 0.0070\n",
            "Epoch 42/100\n",
            "15/15 [==============================] - 0s 16ms/step - loss: 4.0368e-05 - val_loss: 0.0091\n",
            "Epoch 43/100\n",
            "15/15 [==============================] - 0s 15ms/step - loss: 4.8585e-05 - val_loss: 0.0086\n",
            "Epoch 44/100\n",
            "15/15 [==============================] - 0s 15ms/step - loss: 4.1362e-05 - val_loss: 0.0084\n",
            "Epoch 45/100\n",
            "15/15 [==============================] - 0s 15ms/step - loss: 3.7250e-05 - val_loss: 0.0074\n",
            "Epoch 46/100\n",
            "15/15 [==============================] - 0s 16ms/step - loss: 3.7105e-05 - val_loss: 0.0065\n",
            "Epoch 47/100\n",
            "15/15 [==============================] - 0s 15ms/step - loss: 3.7001e-05 - val_loss: 0.0104\n",
            "Epoch 48/100\n",
            "15/15 [==============================] - 0s 15ms/step - loss: 3.7191e-05 - val_loss: 0.0075\n",
            "Epoch 49/100\n",
            "15/15 [==============================] - 0s 15ms/step - loss: 3.5073e-05 - val_loss: 0.0087\n",
            "Epoch 50/100\n",
            "15/15 [==============================] - 0s 15ms/step - loss: 3.6301e-05 - val_loss: 0.0068\n",
            "Epoch 51/100\n",
            "15/15 [==============================] - 0s 17ms/step - loss: 3.4712e-05 - val_loss: 0.0071\n",
            "Epoch 52/100\n",
            "15/15 [==============================] - 0s 15ms/step - loss: 3.2719e-05 - val_loss: 0.0081\n",
            "Epoch 53/100\n",
            "15/15 [==============================] - 0s 15ms/step - loss: 3.4974e-05 - val_loss: 0.0072\n",
            "Epoch 54/100\n",
            "15/15 [==============================] - 0s 15ms/step - loss: 3.2983e-05 - val_loss: 0.0086\n",
            "Epoch 55/100\n",
            "15/15 [==============================] - 0s 15ms/step - loss: 3.3505e-05 - val_loss: 0.0064\n",
            "Epoch 56/100\n",
            "15/15 [==============================] - 0s 15ms/step - loss: 3.7050e-05 - val_loss: 0.0054\n",
            "Epoch 57/100\n",
            "15/15 [==============================] - 0s 15ms/step - loss: 3.1597e-05 - val_loss: 0.0076\n",
            "Epoch 58/100\n",
            "15/15 [==============================] - 0s 15ms/step - loss: 3.2754e-05 - val_loss: 0.0052\n",
            "Epoch 59/100\n",
            "15/15 [==============================] - 0s 16ms/step - loss: 3.3254e-05 - val_loss: 0.0059\n",
            "Epoch 60/100\n",
            "15/15 [==============================] - 0s 15ms/step - loss: 2.8991e-05 - val_loss: 0.0085\n",
            "Epoch 61/100\n",
            "15/15 [==============================] - 0s 15ms/step - loss: 3.0710e-05 - val_loss: 0.0065\n",
            "Epoch 62/100\n",
            "15/15 [==============================] - 0s 15ms/step - loss: 2.8116e-05 - val_loss: 0.0043\n",
            "Epoch 63/100\n",
            "15/15 [==============================] - 0s 15ms/step - loss: 2.8420e-05 - val_loss: 0.0060\n",
            "Epoch 64/100\n",
            "15/15 [==============================] - 0s 15ms/step - loss: 2.7148e-05 - val_loss: 0.0081\n",
            "Epoch 65/100\n",
            "15/15 [==============================] - 0s 15ms/step - loss: 2.6518e-05 - val_loss: 0.0045\n",
            "Epoch 66/100\n",
            "15/15 [==============================] - 0s 15ms/step - loss: 2.6211e-05 - val_loss: 0.0059\n",
            "Epoch 67/100\n",
            "15/15 [==============================] - 0s 15ms/step - loss: 2.6702e-05 - val_loss: 0.0052\n",
            "Epoch 68/100\n",
            "15/15 [==============================] - 0s 15ms/step - loss: 2.5999e-05 - val_loss: 0.0057\n",
            "Epoch 69/100\n",
            "15/15 [==============================] - 0s 15ms/step - loss: 2.8319e-05 - val_loss: 0.0054\n",
            "Epoch 70/100\n",
            "15/15 [==============================] - 0s 15ms/step - loss: 2.4651e-05 - val_loss: 0.0067\n",
            "Epoch 71/100\n",
            "15/15 [==============================] - 0s 15ms/step - loss: 2.4585e-05 - val_loss: 0.0051\n",
            "Epoch 72/100\n",
            "15/15 [==============================] - 0s 14ms/step - loss: 2.4372e-05 - val_loss: 0.0051\n",
            "Epoch 73/100\n",
            "15/15 [==============================] - 0s 15ms/step - loss: 2.4503e-05 - val_loss: 0.0066\n",
            "Epoch 74/100\n",
            "15/15 [==============================] - 0s 15ms/step - loss: 2.6995e-05 - val_loss: 0.0062\n",
            "Epoch 75/100\n",
            "15/15 [==============================] - 0s 15ms/step - loss: 2.5300e-05 - val_loss: 0.0056\n",
            "Epoch 76/100\n",
            "15/15 [==============================] - 0s 15ms/step - loss: 2.5953e-05 - val_loss: 0.0053\n",
            "Epoch 77/100\n",
            "15/15 [==============================] - 0s 15ms/step - loss: 2.4068e-05 - val_loss: 0.0057\n",
            "Epoch 78/100\n",
            "15/15 [==============================] - 0s 14ms/step - loss: 2.6572e-05 - val_loss: 0.0046\n",
            "Epoch 79/100\n",
            "15/15 [==============================] - 0s 15ms/step - loss: 2.5870e-05 - val_loss: 0.0057\n",
            "Epoch 80/100\n",
            "15/15 [==============================] - 0s 15ms/step - loss: 2.4016e-05 - val_loss: 0.0047\n",
            "Epoch 81/100\n",
            "15/15 [==============================] - 0s 15ms/step - loss: 2.4682e-05 - val_loss: 0.0057\n",
            "Epoch 82/100\n",
            "15/15 [==============================] - 0s 15ms/step - loss: 2.8030e-05 - val_loss: 0.0037\n",
            "Epoch 83/100\n",
            "15/15 [==============================] - 0s 15ms/step - loss: 2.9126e-05 - val_loss: 0.0048\n",
            "Epoch 84/100\n",
            "15/15 [==============================] - 0s 15ms/step - loss: 2.2315e-05 - val_loss: 0.0047\n",
            "Epoch 85/100\n",
            "15/15 [==============================] - 0s 15ms/step - loss: 2.3299e-05 - val_loss: 0.0052\n",
            "Epoch 86/100\n",
            "15/15 [==============================] - 0s 15ms/step - loss: 2.2532e-05 - val_loss: 0.0045\n",
            "Epoch 87/100\n",
            "15/15 [==============================] - 0s 15ms/step - loss: 2.5083e-05 - val_loss: 0.0050\n",
            "Epoch 88/100\n",
            "15/15 [==============================] - 0s 16ms/step - loss: 2.3682e-05 - val_loss: 0.0062\n",
            "Epoch 89/100\n",
            "15/15 [==============================] - 0s 15ms/step - loss: 2.6705e-05 - val_loss: 0.0056\n",
            "Epoch 90/100\n",
            "15/15 [==============================] - 0s 15ms/step - loss: 2.3102e-05 - val_loss: 0.0039\n",
            "Epoch 91/100\n",
            "15/15 [==============================] - 0s 15ms/step - loss: 2.1874e-05 - val_loss: 0.0050\n",
            "Epoch 92/100\n",
            "15/15 [==============================] - 0s 15ms/step - loss: 2.0173e-05 - val_loss: 0.0063\n",
            "Epoch 93/100\n",
            "15/15 [==============================] - 0s 15ms/step - loss: 2.0240e-05 - val_loss: 0.0037\n",
            "Epoch 94/100\n",
            "15/15 [==============================] - 0s 16ms/step - loss: 2.2055e-05 - val_loss: 0.0035\n",
            "Epoch 95/100\n",
            "15/15 [==============================] - 0s 16ms/step - loss: 2.2878e-05 - val_loss: 0.0055\n",
            "Epoch 96/100\n",
            "15/15 [==============================] - 0s 15ms/step - loss: 2.0197e-05 - val_loss: 0.0052\n",
            "Epoch 97/100\n",
            "15/15 [==============================] - 0s 15ms/step - loss: 1.9616e-05 - val_loss: 0.0055\n",
            "Epoch 98/100\n",
            "15/15 [==============================] - 0s 15ms/step - loss: 1.9338e-05 - val_loss: 0.0044\n",
            "Epoch 99/100\n",
            "15/15 [==============================] - 0s 15ms/step - loss: 2.0447e-05 - val_loss: 0.0051\n",
            "Epoch 100/100\n",
            "15/15 [==============================] - 0s 15ms/step - loss: 2.2611e-05 - val_loss: 0.0043\n"
          ],
          "name": "stdout"
        },
        {
          "output_type": "execute_result",
          "data": {
            "text/plain": [
              "<tensorflow.python.keras.callbacks.History at 0x7f4e06369f60>"
            ]
          },
          "metadata": {
            "tags": []
          },
          "execution_count": 21
        }
      ]
    },
    {
      "cell_type": "code",
      "metadata": {
        "id": "mN1FEwtUJrNs",
        "colab_type": "code",
        "colab": {
          "base_uri": "https://localhost:8080/",
          "height": 35
        },
        "outputId": "3c1f5e4c-4424-46bb-a728-5492cda89f88"
      },
      "source": [
        "import tensorflow as tf\n",
        "\n",
        "tf.__version__"
      ],
      "execution_count": 22,
      "outputs": [
        {
          "output_type": "execute_result",
          "data": {
            "application/vnd.google.colaboratory.intrinsic+json": {
              "type": "string"
            },
            "text/plain": [
              "'2.3.0'"
            ]
          },
          "metadata": {
            "tags": []
          },
          "execution_count": 22
        }
      ]
    },
    {
      "cell_type": "code",
      "metadata": {
        "id": "Xc6MaLi5J46U",
        "colab_type": "code",
        "colab": {}
      },
      "source": [
        "train_predict=model.predict(X_train)\n",
        "test_predict=model.predict(X_test)"
      ],
      "execution_count": 23,
      "outputs": []
    },
    {
      "cell_type": "code",
      "metadata": {
        "id": "2pKaZ04MJ7E5",
        "colab_type": "code",
        "colab": {}
      },
      "source": [
        "train_predict=scaler.inverse_transform(train_predict)\n",
        "test_predict=scaler.inverse_transform(test_predict)"
      ],
      "execution_count": 24,
      "outputs": []
    },
    {
      "cell_type": "code",
      "metadata": {
        "id": "0EoQslHAJ9wN",
        "colab_type": "code",
        "colab": {
          "base_uri": "https://localhost:8080/",
          "height": 34
        },
        "outputId": "c12f76d4-763b-4bab-9450-ba69f24c401c"
      },
      "source": [
        "import math\n",
        "from sklearn.metrics import mean_squared_error\n",
        "math.sqrt(mean_squared_error(y_train,train_predict))"
      ],
      "execution_count": 25,
      "outputs": [
        {
          "output_type": "execute_result",
          "data": {
            "text/plain": [
              "6.3411397689108995"
            ]
          },
          "metadata": {
            "tags": []
          },
          "execution_count": 25
        }
      ]
    },
    {
      "cell_type": "code",
      "metadata": {
        "id": "84VXtW2WJ_cn",
        "colab_type": "code",
        "colab": {
          "base_uri": "https://localhost:8080/",
          "height": 34
        },
        "outputId": "d954ffd5-a803-487b-fc57-9e9a78039ccd"
      },
      "source": [
        "math.sqrt(mean_squared_error(ytest,test_predict))"
      ],
      "execution_count": 26,
      "outputs": [
        {
          "output_type": "execute_result",
          "data": {
            "text/plain": [
              "42.575894333585104"
            ]
          },
          "metadata": {
            "tags": []
          },
          "execution_count": 26
        }
      ]
    },
    {
      "cell_type": "code",
      "metadata": {
        "id": "kbZtvmmrKCYI",
        "colab_type": "code",
        "colab": {
          "base_uri": "https://localhost:8080/",
          "height": 265
        },
        "outputId": "ce37604e-1ddc-49ce-99f3-c430df3fed9d"
      },
      "source": [
        "look_back=100\n",
        "trainPredictPlot = np.empty_like(df1)\n",
        "trainPredictPlot[:, :] = np.nan\n",
        "trainPredictPlot[look_back:len(train_predict)+look_back, :] = train_predict\n",
        "# shift test predictions for plotting\n",
        "testPredictPlot = np.empty_like(df1)\n",
        "testPredictPlot[:, :] = np.nan\n",
        "testPredictPlot[len(train_predict)+(look_back*2)+1:len(df1)-1, :] = test_predict\n",
        "# plot baseline and predictions\n",
        "plt.plot(scaler.inverse_transform(df1))\n",
        "plt.plot(trainPredictPlot)\n",
        "plt.plot(testPredictPlot)\n",
        "plt.show()"
      ],
      "execution_count": 27,
      "outputs": [
        {
          "output_type": "display_data",
          "data": {
            "image/png": "[encoded data removed]",
            "text/plain": [
              "<Figure size 432x288 with 1 Axes>"
            ]
          },
          "metadata": {
            "tags": [],
            "needs_background": "light"
          }
        }
      ]
    },
    {
      "cell_type": "code",
      "metadata": {
        "id": "jHUC649MKRkq",
        "colab_type": "code",
        "colab": {
          "base_uri": "https://localhost:8080/",
          "height": 34
        },
        "outputId": "f715968d-15cf-4f88-caac-1e90d3376bac"
      },
      "source": [
        "\n",
        "len(test_data)"
      ],
      "execution_count": 28,
      "outputs": [
        {
          "output_type": "execute_result",
          "data": {
            "text/plain": [
              "252"
            ]
          },
          "metadata": {
            "tags": []
          },
          "execution_count": 28
        }
      ]
    },
    {
      "cell_type": "code",
      "metadata": {
        "id": "tXaF-IroKZAv",
        "colab_type": "code",
        "colab": {
          "base_uri": "https://localhost:8080/",
          "height": 34
        },
        "outputId": "ae8ce41e-d3eb-42c3-9169-8f9c349dbae2"
      },
      "source": [
        "x_input=test_data[152:].reshape(1,-1)\n",
        "x_input.shape"
      ],
      "execution_count": 29,
      "outputs": [
        {
          "output_type": "execute_result",
          "data": {
            "text/plain": [
              "(1, 100)"
            ]
          },
          "metadata": {
            "tags": []
          },
          "execution_count": 29
        }
      ]
    },
    {
      "cell_type": "code",
      "metadata": {
        "id": "LKekZz35Kku2",
        "colab_type": "code",
        "colab": {
          "base_uri": "https://localhost:8080/",
          "height": 1000
        },
        "outputId": "075db75c-2d2a-4f2d-d8f0-d3ce9dcb4bff"
      },
      "source": [
        "temp_input=list(x_input)\n",
        "temp_input=temp_input[0].tolist()\n",
        "temp_input"
      ],
      "execution_count": 31,
      "outputs": [
        {
          "output_type": "execute_result",
          "data": {
            "text/plain": [
              "[0.2659959983721903,\n",
              " 0.2721163003601296,\n",
              " 0.2710344732708948,\n",
              " 0.2878067086967685,\n",
              " 0.2843440691544311,\n",
              " 0.28354338128293155,\n",
              " 0.2756853906742308,\n",
              " 0.2809538590291455,\n",
              " 0.27918208406541084,\n",
              " 0.28534069663329814,\n",
              " 0.28294711398687955,\n",
              " 0.2861627006544549,\n",
              " 0.29129063189463256,\n",
              " 0.2867249141016643,\n",
              " 0.28757245850945307,\n",
              " 0.2881516988810837,\n",
              " 0.2820101132376177,\n",
              " 0.29444233510149737,\n",
              " 0.3213170607114122,\n",
              " 0.3142725606616575,\n",
              " 0.3148688279577095,\n",
              " 0.3069554998446395,\n",
              " 0.31601879523876014,\n",
              " 0.3433875616099378,\n",
              " 0.3394479407248894,\n",
              " 0.37538596172892486,\n",
              " 0.3531493508348995,\n",
              " 0.337152295388024,\n",
              " 0.36084123144810065,\n",
              " 0.35710603113849987,\n",
              " 0.36122030797538907,\n",
              " 0.36640360921406656,\n",
              " 0.3651003021308323,\n",
              " 0.36229784583938796,\n",
              " 0.3654751219270154,\n",
              " 0.34804273574437916,\n",
              " 0.35874578244970806,\n",
              " 0.34756997863864286,\n",
              " 0.3686992220568014,\n",
              " 0.3987086564432902,\n",
              " 0.4156682530260596,\n",
              " 0.45358675879451305,\n",
              " 0.522975570071848,\n",
              " 0.5307610987693665,\n",
              " 0.5205478685883257,\n",
              " 0.5326436137301008,\n",
              " 0.596687270504364,\n",
              " 0.5764183416873103,\n",
              " 0.5848257430557738,\n",
              " 0.5972665108759947,\n",
              " 0.5779430962704135,\n",
              " 0.5780282958807812,\n",
              " 0.6385752592638644,\n",
              " 0.6067855364514303,\n",
              " 0.6169945423954963,\n",
              " 0.5832371700002212,\n",
              " 0.5423202358388254,\n",
              " 0.5945364840016022,\n",
              " 0.5676574691664515,\n",
              " 0.5772914589758616,\n",
              " 0.5723424079244996,\n",
              " 0.5481807472528173,\n",
              " 0.5712819294790527,\n",
              " 0.5721337306179467,\n",
              " 0.5712904429412633,\n",
              " 0.5732325521374723,\n",
              " 0.5575293736075173,\n",
              " 0.5429889000577985,\n",
              " 0.5241723289009268,\n",
              " 0.6009931977233849,\n",
              " 0.6292053167595071,\n",
              " 0.6418589861232556,\n",
              " 0.7206219641419227,\n",
              " 0.74253490100129,\n",
              " 0.7388891245390317,\n",
              " 0.7914034738557039,\n",
              " 0.8119109095911785,\n",
              " 0.7966719422106185,\n",
              " 0.8005647390535083,\n",
              " 0.8558602610060981,\n",
              " 0.8923093821899484,\n",
              " 0.8815126224120411,\n",
              " 1.0,\n",
              " 0.9504456710139306,\n",
              " 0.8915001483621076,\n",
              " 0.8055308170292916,\n",
              " 0.8296371726907353,\n",
              " 0.642003779969098,\n",
              " 0.7188161353293454,\n",
              " 0.7295915789575955,\n",
              " 0.7325303481268022,\n",
              " 0.8324055426392064,\n",
              " 0.8965897690223372,\n",
              " 0.8795534862914107,\n",
              " 0.8405190670907492,\n",
              " 0.8803839712806476,\n",
              " 0.8958018513441538,\n",
              " 0.8422227343567985,\n",
              " 0.7487999643409411,\n",
              " 0.7752490168403229]"
            ]
          },
          "metadata": {
            "tags": []
          },
          "execution_count": 31
        }
      ]
    },
    {
      "cell_type": "code",
      "metadata": {
        "id": "xJdCmDc2KnyX",
        "colab_type": "code",
        "colab": {
          "base_uri": "https://localhost:8080/",
          "height": 238
        },
        "outputId": "9b7e0da0-879f-4c35-f6a2-40c28f02e454"
      },
      "source": [
        "from numpy import array\n",
        "lst_output=[]\n",
        "n_steps=100\n",
        "i=0\n",
        "while(i<11):\n",
        "    \n",
        "    if(len(temp_input)>100):\n",
        "        #print(temp_input)\n",
        "        x_input=np.array(temp_input[1:])\n",
        "        #print(\"{} day input {}\".format(i,x_input))\n",
        "        x_input=x_input.reshape(1,-1)\n",
        "        x_input = x_input.reshape((1, n_steps, 1))\n",
        "        #print(x_input)\n",
        "        yhat = model.predict(x_input, verbose=0)\n",
        "        print(\"{} day Prediction {}\".format(i,yhat))\n",
        "        temp_input.extend(yhat[0].tolist())\n",
        "        temp_input=temp_input[1:]\n",
        "        #print(temp_input)\n",
        "        lst_output.extend(yhat.tolist())\n",
        "        i=i+1\n",
        "    else:\n",
        "        x_input = x_input.reshape((1, n_steps,1))\n",
        "        yhat = model.predict(x_input, verbose=0)\n",
        "        #print(yhat[0])\n",
        "        temp_input.extend(yhat[0].tolist())\n",
        "        #print(len(temp_input))\n",
        "        lst_output.extend(yhat.tolist())\n",
        "        i=i+1\n",
        "    \n",
        "\n",
        "#print(lst_output)\n",
        "#for i in lst_output:\n"
      ],
      "execution_count": 34,
      "outputs": [
        {
          "output_type": "stream",
          "text": [
            "0 day Prediction [[0.29443455]]\n",
            "1 day Prediction [[0.2894227]]\n",
            "2 day Prediction [[0.28471306]]\n",
            "3 day Prediction [[0.28028116]]\n",
            "4 day Prediction [[0.27608597]]\n",
            "5 day Prediction [[0.27207947]]\n",
            "6 day Prediction [[0.26821482]]\n",
            "7 day Prediction [[0.2644522]]\n",
            "8 day Prediction [[0.26076165]]\n",
            "9 day Prediction [[0.25712433]]\n",
            "10 day Prediction [[0.25353193]]\n",
            "[[0.2944345474243164], [0.2894226908683777], [0.2847130596637726], [0.2802811563014984], [0.2760859727859497], [0.2720794677734375], [0.2682148218154907], [0.264452189207077], [0.26076164841651917], [0.2571243345737457], [0.25353193283081055]]\n"
          ],
          "name": "stdout"
        }
      ]
    },
    {
      "cell_type": "code",
      "metadata": {
        "id": "OlZGQS53LdLl",
        "colab_type": "code",
        "colab": {}
      },
      "source": [
        ""
      ],
      "execution_count": null,
      "outputs": []
    }
  ]
}